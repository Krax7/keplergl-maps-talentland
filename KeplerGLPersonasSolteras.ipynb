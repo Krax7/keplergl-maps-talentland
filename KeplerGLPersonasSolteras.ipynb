{
 "cells": [
  {
   "cell_type": "code",
   "execution_count": 3,
   "id": "f2526ae7",
   "metadata": {},
   "outputs": [],
   "source": [
    "import numpy as np\n",
    "import pandas as pd\n",
    "import geopandas as gdp\n",
    "import keplergl\n",
    "from dms2dec.dms_convert import dms2dec"
   ]
  },
  {
   "cell_type": "markdown",
   "id": "00fb66cb",
   "metadata": {},
   "source": [
    "# Leer los datos del CENSO 2020 en Edomex"
   ]
  },
  {
   "cell_type": "code",
   "execution_count": 4,
   "id": "1e764e8e",
   "metadata": {
    "scrolled": true
   },
   "outputs": [
    {
     "output_type": "execute_result",
     "data": {
      "text/plain": [
       "        ENTIDAD NOM_ENT  MUN                     NOM_MUN  LOC  \\\n",
       "0            15  México    0  Total de la entidad México    0   \n",
       "1            15  México    1   Acambay de Ruíz Castañeda    0   \n",
       "2            15  México    1   Acambay de Ruíz Castañeda    1   \n",
       "3            15  México    1   Acambay de Ruíz Castañeda    1   \n",
       "4            15  México    1   Acambay de Ruíz Castañeda    1   \n",
       "...         ...     ...  ...                         ...  ...   \n",
       "141525       15  México  125                   Tonanitla    7   \n",
       "141526       15  México  125                   Tonanitla    7   \n",
       "141527       15  México  125                   Tonanitla    7   \n",
       "141528       15  México  125                   Tonanitla    7   \n",
       "141529       15  México  125                   Tonanitla    7   \n",
       "\n",
       "                                   NOM_LOC  AGEB  MZA    POBTOT   POBFEM  ...  \\\n",
       "0                      Total de la entidad  0000    0  16992418  8741123  ...   \n",
       "1                      Total del municipio  0000    0     67872    35255  ...   \n",
       "2             Total de la localidad urbana  0000    0      5988     3148  ...   \n",
       "3                        Total AGEB urbana  0127    0      3373     1796  ...   \n",
       "4       Villa de Acambay de Ruíz Castañeda  0127    1         0        0  ...   \n",
       "...                                    ...   ...  ...       ...      ...  ...   \n",
       "141525                 Villas de Tonanitla  0069   44        11        5  ...   \n",
       "141526                 Villas de Tonanitla  0069   45        19       12  ...   \n",
       "141527                 Villas de Tonanitla  0069   46         3        *  ...   \n",
       "141528                 Villas de Tonanitla  0069   47        12        7  ...   \n",
       "141529                 Villas de Tonanitla  0069   48         0        0  ...   \n",
       "\n",
       "       VPH_TELEF  VPH_CEL VPH_INTER VPH_STVP VPH_SPMVPI VPH_CVJ VPH_SINRTV  \\\n",
       "0        2123211  4049493   2561525  1559564     822048  572663     133777   \n",
       "1           1954    13388      2973     2140        393     257       1352   \n",
       "2            561     1441       854      677        226     118         55   \n",
       "3            360      831       523      427        143      80         33   \n",
       "4              0        0         0        0          0       0          0   \n",
       "...          ...      ...       ...      ...        ...     ...        ...   \n",
       "141525         *        4         5        4          3       4          *   \n",
       "141526         *        5         5        3          5       *          0   \n",
       "141527         *        *         *        *          *       *          *   \n",
       "141528         0        4         *        *          0       0          0   \n",
       "141529         0        0         0        0          0       0          0   \n",
       "\n",
       "       VPH_SINLTC VPH_SINCINT VPH_SINTIC  \n",
       "0          329132     1769551      53857  \n",
       "1            3427       13523        734  \n",
       "2              75         573         10  \n",
       "3              45         309          5  \n",
       "4               0           0          0  \n",
       "...           ...         ...        ...  \n",
       "141525          0           0          0  \n",
       "141526          0           0          0  \n",
       "141527          *           *          *  \n",
       "141528          0           *          0  \n",
       "141529          0           0          0  \n",
       "\n",
       "[141530 rows x 230 columns]"
      ],
      "text/html": "<div>\n<style scoped>\n    .dataframe tbody tr th:only-of-type {\n        vertical-align: middle;\n    }\n\n    .dataframe tbody tr th {\n        vertical-align: top;\n    }\n\n    .dataframe thead th {\n        text-align: right;\n    }\n</style>\n<table border=\"1\" class=\"dataframe\">\n  <thead>\n    <tr style=\"text-align: right;\">\n      <th></th>\n      <th>ENTIDAD</th>\n      <th>NOM_ENT</th>\n      <th>MUN</th>\n      <th>NOM_MUN</th>\n      <th>LOC</th>\n      <th>NOM_LOC</th>\n      <th>AGEB</th>\n      <th>MZA</th>\n      <th>POBTOT</th>\n      <th>POBFEM</th>\n      <th>...</th>\n      <th>VPH_TELEF</th>\n      <th>VPH_CEL</th>\n      <th>VPH_INTER</th>\n      <th>VPH_STVP</th>\n      <th>VPH_SPMVPI</th>\n      <th>VPH_CVJ</th>\n      <th>VPH_SINRTV</th>\n      <th>VPH_SINLTC</th>\n      <th>VPH_SINCINT</th>\n      <th>VPH_SINTIC</th>\n    </tr>\n  </thead>\n  <tbody>\n    <tr>\n      <th>0</th>\n      <td>15</td>\n      <td>México</td>\n      <td>0</td>\n      <td>Total de la entidad México</td>\n      <td>0</td>\n      <td>Total de la entidad</td>\n      <td>0000</td>\n      <td>0</td>\n      <td>16992418</td>\n      <td>8741123</td>\n      <td>...</td>\n      <td>2123211</td>\n      <td>4049493</td>\n      <td>2561525</td>\n      <td>1559564</td>\n      <td>822048</td>\n      <td>572663</td>\n      <td>133777</td>\n      <td>329132</td>\n      <td>1769551</td>\n      <td>53857</td>\n    </tr>\n    <tr>\n      <th>1</th>\n      <td>15</td>\n      <td>México</td>\n      <td>1</td>\n      <td>Acambay de Ruíz Castañeda</td>\n      <td>0</td>\n      <td>Total del municipio</td>\n      <td>0000</td>\n      <td>0</td>\n      <td>67872</td>\n      <td>35255</td>\n      <td>...</td>\n      <td>1954</td>\n      <td>13388</td>\n      <td>2973</td>\n      <td>2140</td>\n      <td>393</td>\n      <td>257</td>\n      <td>1352</td>\n      <td>3427</td>\n      <td>13523</td>\n      <td>734</td>\n    </tr>\n    <tr>\n      <th>2</th>\n      <td>15</td>\n      <td>México</td>\n      <td>1</td>\n      <td>Acambay de Ruíz Castañeda</td>\n      <td>1</td>\n      <td>Total de la localidad urbana</td>\n      <td>0000</td>\n      <td>0</td>\n      <td>5988</td>\n      <td>3148</td>\n      <td>...</td>\n      <td>561</td>\n      <td>1441</td>\n      <td>854</td>\n      <td>677</td>\n      <td>226</td>\n      <td>118</td>\n      <td>55</td>\n      <td>75</td>\n      <td>573</td>\n      <td>10</td>\n    </tr>\n    <tr>\n      <th>3</th>\n      <td>15</td>\n      <td>México</td>\n      <td>1</td>\n      <td>Acambay de Ruíz Castañeda</td>\n      <td>1</td>\n      <td>Total AGEB urbana</td>\n      <td>0127</td>\n      <td>0</td>\n      <td>3373</td>\n      <td>1796</td>\n      <td>...</td>\n      <td>360</td>\n      <td>831</td>\n      <td>523</td>\n      <td>427</td>\n      <td>143</td>\n      <td>80</td>\n      <td>33</td>\n      <td>45</td>\n      <td>309</td>\n      <td>5</td>\n    </tr>\n    <tr>\n      <th>4</th>\n      <td>15</td>\n      <td>México</td>\n      <td>1</td>\n      <td>Acambay de Ruíz Castañeda</td>\n      <td>1</td>\n      <td>Villa de Acambay de Ruíz Castañeda</td>\n      <td>0127</td>\n      <td>1</td>\n      <td>0</td>\n      <td>0</td>\n      <td>...</td>\n      <td>0</td>\n      <td>0</td>\n      <td>0</td>\n      <td>0</td>\n      <td>0</td>\n      <td>0</td>\n      <td>0</td>\n      <td>0</td>\n      <td>0</td>\n      <td>0</td>\n    </tr>\n    <tr>\n      <th>...</th>\n      <td>...</td>\n      <td>...</td>\n      <td>...</td>\n      <td>...</td>\n      <td>...</td>\n      <td>...</td>\n      <td>...</td>\n      <td>...</td>\n      <td>...</td>\n      <td>...</td>\n      <td>...</td>\n      <td>...</td>\n      <td>...</td>\n      <td>...</td>\n      <td>...</td>\n      <td>...</td>\n      <td>...</td>\n      <td>...</td>\n      <td>...</td>\n      <td>...</td>\n      <td>...</td>\n    </tr>\n    <tr>\n      <th>141525</th>\n      <td>15</td>\n      <td>México</td>\n      <td>125</td>\n      <td>Tonanitla</td>\n      <td>7</td>\n      <td>Villas de Tonanitla</td>\n      <td>0069</td>\n      <td>44</td>\n      <td>11</td>\n      <td>5</td>\n      <td>...</td>\n      <td>*</td>\n      <td>4</td>\n      <td>5</td>\n      <td>4</td>\n      <td>3</td>\n      <td>4</td>\n      <td>*</td>\n      <td>0</td>\n      <td>0</td>\n      <td>0</td>\n    </tr>\n    <tr>\n      <th>141526</th>\n      <td>15</td>\n      <td>México</td>\n      <td>125</td>\n      <td>Tonanitla</td>\n      <td>7</td>\n      <td>Villas de Tonanitla</td>\n      <td>0069</td>\n      <td>45</td>\n      <td>19</td>\n      <td>12</td>\n      <td>...</td>\n      <td>*</td>\n      <td>5</td>\n      <td>5</td>\n      <td>3</td>\n      <td>5</td>\n      <td>*</td>\n      <td>0</td>\n      <td>0</td>\n      <td>0</td>\n      <td>0</td>\n    </tr>\n    <tr>\n      <th>141527</th>\n      <td>15</td>\n      <td>México</td>\n      <td>125</td>\n      <td>Tonanitla</td>\n      <td>7</td>\n      <td>Villas de Tonanitla</td>\n      <td>0069</td>\n      <td>46</td>\n      <td>3</td>\n      <td>*</td>\n      <td>...</td>\n      <td>*</td>\n      <td>*</td>\n      <td>*</td>\n      <td>*</td>\n      <td>*</td>\n      <td>*</td>\n      <td>*</td>\n      <td>*</td>\n      <td>*</td>\n      <td>*</td>\n    </tr>\n    <tr>\n      <th>141528</th>\n      <td>15</td>\n      <td>México</td>\n      <td>125</td>\n      <td>Tonanitla</td>\n      <td>7</td>\n      <td>Villas de Tonanitla</td>\n      <td>0069</td>\n      <td>47</td>\n      <td>12</td>\n      <td>7</td>\n      <td>...</td>\n      <td>0</td>\n      <td>4</td>\n      <td>*</td>\n      <td>*</td>\n      <td>0</td>\n      <td>0</td>\n      <td>0</td>\n      <td>0</td>\n      <td>*</td>\n      <td>0</td>\n    </tr>\n    <tr>\n      <th>141529</th>\n      <td>15</td>\n      <td>México</td>\n      <td>125</td>\n      <td>Tonanitla</td>\n      <td>7</td>\n      <td>Villas de Tonanitla</td>\n      <td>0069</td>\n      <td>48</td>\n      <td>0</td>\n      <td>0</td>\n      <td>...</td>\n      <td>0</td>\n      <td>0</td>\n      <td>0</td>\n      <td>0</td>\n      <td>0</td>\n      <td>0</td>\n      <td>0</td>\n      <td>0</td>\n      <td>0</td>\n      <td>0</td>\n    </tr>\n  </tbody>\n</table>\n<p>141530 rows × 230 columns</p>\n</div>"
     },
     "metadata": {},
     "execution_count": 4
    }
   ],
   "source": [
    "df_edomex = pd.read_csv('data/ageb_mza_urbana_15_cpv2020/conjunto_de_datos/conjunto_de_datos_ageb_urbana_15_cpv2020.csv')\n",
    "df_edomex"
   ]
  },
  {
   "source": [
    "# Limpieza de datos"
   ],
   "cell_type": "markdown",
   "metadata": {}
  },
  {
   "source": [
    "## Limpiamos datos perdidos marcados como '*'"
   ],
   "cell_type": "markdown",
   "metadata": {}
  },
  {
   "cell_type": "code",
   "execution_count": 5,
   "metadata": {},
   "outputs": [
    {
     "output_type": "execute_result",
     "data": {
      "text/plain": [
       "                           NOM_MUN  LOC                             NOM_LOC  \\\n",
       "0       Total de la entidad México    0                 Total de la entidad   \n",
       "1        Acambay de Ruíz Castañeda    0                 Total del municipio   \n",
       "2        Acambay de Ruíz Castañeda    1        Total de la localidad urbana   \n",
       "3        Acambay de Ruíz Castañeda    1                   Total AGEB urbana   \n",
       "4        Acambay de Ruíz Castañeda    1  Villa de Acambay de Ruíz Castañeda   \n",
       "...                            ...  ...                                 ...   \n",
       "141521                   Tonanitla    7                 Villas de Tonanitla   \n",
       "141522                   Tonanitla    7                 Villas de Tonanitla   \n",
       "141524                   Tonanitla    7                 Villas de Tonanitla   \n",
       "141526                   Tonanitla    7                 Villas de Tonanitla   \n",
       "141529                   Tonanitla    7                 Villas de Tonanitla   \n",
       "\n",
       "       P_12YMAS_F P_12YMAS_M P12YM_SOLT  \n",
       "0         7137483    6605364    4799091  \n",
       "1           27342      24517      18101  \n",
       "2            2568       2182       1780  \n",
       "3            1488       1207       1029  \n",
       "4               0          0          0  \n",
       "...           ...        ...        ...  \n",
       "141521          5         10          4  \n",
       "141522         12         12          3  \n",
       "141524         10         10          5  \n",
       "141526         10          5          5  \n",
       "141529          0          0          0  \n",
       "\n",
       "[133354 rows x 6 columns]"
      ],
      "text/html": "<div>\n<style scoped>\n    .dataframe tbody tr th:only-of-type {\n        vertical-align: middle;\n    }\n\n    .dataframe tbody tr th {\n        vertical-align: top;\n    }\n\n    .dataframe thead th {\n        text-align: right;\n    }\n</style>\n<table border=\"1\" class=\"dataframe\">\n  <thead>\n    <tr style=\"text-align: right;\">\n      <th></th>\n      <th>NOM_MUN</th>\n      <th>LOC</th>\n      <th>NOM_LOC</th>\n      <th>P_12YMAS_F</th>\n      <th>P_12YMAS_M</th>\n      <th>P12YM_SOLT</th>\n    </tr>\n  </thead>\n  <tbody>\n    <tr>\n      <th>0</th>\n      <td>Total de la entidad México</td>\n      <td>0</td>\n      <td>Total de la entidad</td>\n      <td>7137483</td>\n      <td>6605364</td>\n      <td>4799091</td>\n    </tr>\n    <tr>\n      <th>1</th>\n      <td>Acambay de Ruíz Castañeda</td>\n      <td>0</td>\n      <td>Total del municipio</td>\n      <td>27342</td>\n      <td>24517</td>\n      <td>18101</td>\n    </tr>\n    <tr>\n      <th>2</th>\n      <td>Acambay de Ruíz Castañeda</td>\n      <td>1</td>\n      <td>Total de la localidad urbana</td>\n      <td>2568</td>\n      <td>2182</td>\n      <td>1780</td>\n    </tr>\n    <tr>\n      <th>3</th>\n      <td>Acambay de Ruíz Castañeda</td>\n      <td>1</td>\n      <td>Total AGEB urbana</td>\n      <td>1488</td>\n      <td>1207</td>\n      <td>1029</td>\n    </tr>\n    <tr>\n      <th>4</th>\n      <td>Acambay de Ruíz Castañeda</td>\n      <td>1</td>\n      <td>Villa de Acambay de Ruíz Castañeda</td>\n      <td>0</td>\n      <td>0</td>\n      <td>0</td>\n    </tr>\n    <tr>\n      <th>...</th>\n      <td>...</td>\n      <td>...</td>\n      <td>...</td>\n      <td>...</td>\n      <td>...</td>\n      <td>...</td>\n    </tr>\n    <tr>\n      <th>141521</th>\n      <td>Tonanitla</td>\n      <td>7</td>\n      <td>Villas de Tonanitla</td>\n      <td>5</td>\n      <td>10</td>\n      <td>4</td>\n    </tr>\n    <tr>\n      <th>141522</th>\n      <td>Tonanitla</td>\n      <td>7</td>\n      <td>Villas de Tonanitla</td>\n      <td>12</td>\n      <td>12</td>\n      <td>3</td>\n    </tr>\n    <tr>\n      <th>141524</th>\n      <td>Tonanitla</td>\n      <td>7</td>\n      <td>Villas de Tonanitla</td>\n      <td>10</td>\n      <td>10</td>\n      <td>5</td>\n    </tr>\n    <tr>\n      <th>141526</th>\n      <td>Tonanitla</td>\n      <td>7</td>\n      <td>Villas de Tonanitla</td>\n      <td>10</td>\n      <td>5</td>\n      <td>5</td>\n    </tr>\n    <tr>\n      <th>141529</th>\n      <td>Tonanitla</td>\n      <td>7</td>\n      <td>Villas de Tonanitla</td>\n      <td>0</td>\n      <td>0</td>\n      <td>0</td>\n    </tr>\n  </tbody>\n</table>\n<p>133354 rows × 6 columns</p>\n</div>"
     },
     "metadata": {},
     "execution_count": 5
    }
   ],
   "source": [
    "df_edomex_solt_mun = df_edomex[df_edomex['P12YM_SOLT'] != '*'].loc[:,('NOM_MUN','LOC','NOM_LOC','P_12YMAS_F','P_12YMAS_M','P12YM_SOLT')]\n",
    "df_edomex_solt_mun"
   ]
  },
  {
   "source": [
    "## Reemplazamos datos perdidos no aleatorios con NaN"
   ],
   "cell_type": "markdown",
   "metadata": {}
  },
  {
   "cell_type": "code",
   "execution_count": 6,
   "metadata": {},
   "outputs": [
    {
     "output_type": "execute_result",
     "data": {
      "text/plain": [
       "                           NOM_MUN  LOC                             NOM_LOC  \\\n",
       "0       Total de la entidad México    0                 Total de la entidad   \n",
       "1        Acambay de Ruíz Castañeda    0                 Total del municipio   \n",
       "2        Acambay de Ruíz Castañeda    1        Total de la localidad urbana   \n",
       "3        Acambay de Ruíz Castañeda    1                   Total AGEB urbana   \n",
       "4        Acambay de Ruíz Castañeda    1  Villa de Acambay de Ruíz Castañeda   \n",
       "...                            ...  ...                                 ...   \n",
       "141521                   Tonanitla    7                 Villas de Tonanitla   \n",
       "141522                   Tonanitla    7                 Villas de Tonanitla   \n",
       "141524                   Tonanitla    7                 Villas de Tonanitla   \n",
       "141526                   Tonanitla    7                 Villas de Tonanitla   \n",
       "141529                   Tonanitla    7                 Villas de Tonanitla   \n",
       "\n",
       "       P_12YMAS_F P_12YMAS_M P12YM_SOLT  \n",
       "0         7137483    6605364    4799091  \n",
       "1           27342      24517      18101  \n",
       "2            2568       2182       1780  \n",
       "3            1488       1207       1029  \n",
       "4               0          0          0  \n",
       "...           ...        ...        ...  \n",
       "141521          5         10          4  \n",
       "141522         12         12          3  \n",
       "141524         10         10          5  \n",
       "141526         10          5          5  \n",
       "141529          0          0          0  \n",
       "\n",
       "[133351 rows x 6 columns]"
      ],
      "text/html": "<div>\n<style scoped>\n    .dataframe tbody tr th:only-of-type {\n        vertical-align: middle;\n    }\n\n    .dataframe tbody tr th {\n        vertical-align: top;\n    }\n\n    .dataframe thead th {\n        text-align: right;\n    }\n</style>\n<table border=\"1\" class=\"dataframe\">\n  <thead>\n    <tr style=\"text-align: right;\">\n      <th></th>\n      <th>NOM_MUN</th>\n      <th>LOC</th>\n      <th>NOM_LOC</th>\n      <th>P_12YMAS_F</th>\n      <th>P_12YMAS_M</th>\n      <th>P12YM_SOLT</th>\n    </tr>\n  </thead>\n  <tbody>\n    <tr>\n      <th>0</th>\n      <td>Total de la entidad México</td>\n      <td>0</td>\n      <td>Total de la entidad</td>\n      <td>7137483</td>\n      <td>6605364</td>\n      <td>4799091</td>\n    </tr>\n    <tr>\n      <th>1</th>\n      <td>Acambay de Ruíz Castañeda</td>\n      <td>0</td>\n      <td>Total del municipio</td>\n      <td>27342</td>\n      <td>24517</td>\n      <td>18101</td>\n    </tr>\n    <tr>\n      <th>2</th>\n      <td>Acambay de Ruíz Castañeda</td>\n      <td>1</td>\n      <td>Total de la localidad urbana</td>\n      <td>2568</td>\n      <td>2182</td>\n      <td>1780</td>\n    </tr>\n    <tr>\n      <th>3</th>\n      <td>Acambay de Ruíz Castañeda</td>\n      <td>1</td>\n      <td>Total AGEB urbana</td>\n      <td>1488</td>\n      <td>1207</td>\n      <td>1029</td>\n    </tr>\n    <tr>\n      <th>4</th>\n      <td>Acambay de Ruíz Castañeda</td>\n      <td>1</td>\n      <td>Villa de Acambay de Ruíz Castañeda</td>\n      <td>0</td>\n      <td>0</td>\n      <td>0</td>\n    </tr>\n    <tr>\n      <th>...</th>\n      <td>...</td>\n      <td>...</td>\n      <td>...</td>\n      <td>...</td>\n      <td>...</td>\n      <td>...</td>\n    </tr>\n    <tr>\n      <th>141521</th>\n      <td>Tonanitla</td>\n      <td>7</td>\n      <td>Villas de Tonanitla</td>\n      <td>5</td>\n      <td>10</td>\n      <td>4</td>\n    </tr>\n    <tr>\n      <th>141522</th>\n      <td>Tonanitla</td>\n      <td>7</td>\n      <td>Villas de Tonanitla</td>\n      <td>12</td>\n      <td>12</td>\n      <td>3</td>\n    </tr>\n    <tr>\n      <th>141524</th>\n      <td>Tonanitla</td>\n      <td>7</td>\n      <td>Villas de Tonanitla</td>\n      <td>10</td>\n      <td>10</td>\n      <td>5</td>\n    </tr>\n    <tr>\n      <th>141526</th>\n      <td>Tonanitla</td>\n      <td>7</td>\n      <td>Villas de Tonanitla</td>\n      <td>10</td>\n      <td>5</td>\n      <td>5</td>\n    </tr>\n    <tr>\n      <th>141529</th>\n      <td>Tonanitla</td>\n      <td>7</td>\n      <td>Villas de Tonanitla</td>\n      <td>0</td>\n      <td>0</td>\n      <td>0</td>\n    </tr>\n  </tbody>\n</table>\n<p>133351 rows × 6 columns</p>\n</div>"
     },
     "metadata": {},
     "execution_count": 6
    }
   ],
   "source": [
    "df_edomex_solt_mun['P12YM_SOLT'].replace('N/D', np.NaN, inplace=True)\n",
    "df_edomex_solt_mun.dropna(inplace=True)\n",
    "df_edomex_solt_mun"
   ]
  },
  {
   "source": [
    "### Hacemos cast para convertir a datos de tipo numérico la columna de personas solteras"
   ],
   "cell_type": "markdown",
   "metadata": {}
  },
  {
   "cell_type": "code",
   "execution_count": 7,
   "metadata": {},
   "outputs": [
    {
     "output_type": "execute_result",
     "data": {
      "text/plain": [
       "                           NOM_MUN  LOC                             NOM_LOC  \\\n",
       "0       Total de la entidad México    0                 Total de la entidad   \n",
       "1        Acambay de Ruíz Castañeda    0                 Total del municipio   \n",
       "2        Acambay de Ruíz Castañeda    1        Total de la localidad urbana   \n",
       "3        Acambay de Ruíz Castañeda    1                   Total AGEB urbana   \n",
       "4        Acambay de Ruíz Castañeda    1  Villa de Acambay de Ruíz Castañeda   \n",
       "...                            ...  ...                                 ...   \n",
       "141521                   Tonanitla    7                 Villas de Tonanitla   \n",
       "141522                   Tonanitla    7                 Villas de Tonanitla   \n",
       "141524                   Tonanitla    7                 Villas de Tonanitla   \n",
       "141526                   Tonanitla    7                 Villas de Tonanitla   \n",
       "141529                   Tonanitla    7                 Villas de Tonanitla   \n",
       "\n",
       "       P_12YMAS_F P_12YMAS_M  P12YM_SOLT  \n",
       "0         7137483    6605364     4799091  \n",
       "1           27342      24517       18101  \n",
       "2            2568       2182        1780  \n",
       "3            1488       1207        1029  \n",
       "4               0          0           0  \n",
       "...           ...        ...         ...  \n",
       "141521          5         10           4  \n",
       "141522         12         12           3  \n",
       "141524         10         10           5  \n",
       "141526         10          5           5  \n",
       "141529          0          0           0  \n",
       "\n",
       "[133351 rows x 6 columns]"
      ],
      "text/html": "<div>\n<style scoped>\n    .dataframe tbody tr th:only-of-type {\n        vertical-align: middle;\n    }\n\n    .dataframe tbody tr th {\n        vertical-align: top;\n    }\n\n    .dataframe thead th {\n        text-align: right;\n    }\n</style>\n<table border=\"1\" class=\"dataframe\">\n  <thead>\n    <tr style=\"text-align: right;\">\n      <th></th>\n      <th>NOM_MUN</th>\n      <th>LOC</th>\n      <th>NOM_LOC</th>\n      <th>P_12YMAS_F</th>\n      <th>P_12YMAS_M</th>\n      <th>P12YM_SOLT</th>\n    </tr>\n  </thead>\n  <tbody>\n    <tr>\n      <th>0</th>\n      <td>Total de la entidad México</td>\n      <td>0</td>\n      <td>Total de la entidad</td>\n      <td>7137483</td>\n      <td>6605364</td>\n      <td>4799091</td>\n    </tr>\n    <tr>\n      <th>1</th>\n      <td>Acambay de Ruíz Castañeda</td>\n      <td>0</td>\n      <td>Total del municipio</td>\n      <td>27342</td>\n      <td>24517</td>\n      <td>18101</td>\n    </tr>\n    <tr>\n      <th>2</th>\n      <td>Acambay de Ruíz Castañeda</td>\n      <td>1</td>\n      <td>Total de la localidad urbana</td>\n      <td>2568</td>\n      <td>2182</td>\n      <td>1780</td>\n    </tr>\n    <tr>\n      <th>3</th>\n      <td>Acambay de Ruíz Castañeda</td>\n      <td>1</td>\n      <td>Total AGEB urbana</td>\n      <td>1488</td>\n      <td>1207</td>\n      <td>1029</td>\n    </tr>\n    <tr>\n      <th>4</th>\n      <td>Acambay de Ruíz Castañeda</td>\n      <td>1</td>\n      <td>Villa de Acambay de Ruíz Castañeda</td>\n      <td>0</td>\n      <td>0</td>\n      <td>0</td>\n    </tr>\n    <tr>\n      <th>...</th>\n      <td>...</td>\n      <td>...</td>\n      <td>...</td>\n      <td>...</td>\n      <td>...</td>\n      <td>...</td>\n    </tr>\n    <tr>\n      <th>141521</th>\n      <td>Tonanitla</td>\n      <td>7</td>\n      <td>Villas de Tonanitla</td>\n      <td>5</td>\n      <td>10</td>\n      <td>4</td>\n    </tr>\n    <tr>\n      <th>141522</th>\n      <td>Tonanitla</td>\n      <td>7</td>\n      <td>Villas de Tonanitla</td>\n      <td>12</td>\n      <td>12</td>\n      <td>3</td>\n    </tr>\n    <tr>\n      <th>141524</th>\n      <td>Tonanitla</td>\n      <td>7</td>\n      <td>Villas de Tonanitla</td>\n      <td>10</td>\n      <td>10</td>\n      <td>5</td>\n    </tr>\n    <tr>\n      <th>141526</th>\n      <td>Tonanitla</td>\n      <td>7</td>\n      <td>Villas de Tonanitla</td>\n      <td>10</td>\n      <td>5</td>\n      <td>5</td>\n    </tr>\n    <tr>\n      <th>141529</th>\n      <td>Tonanitla</td>\n      <td>7</td>\n      <td>Villas de Tonanitla</td>\n      <td>0</td>\n      <td>0</td>\n      <td>0</td>\n    </tr>\n  </tbody>\n</table>\n<p>133351 rows × 6 columns</p>\n</div>"
     },
     "metadata": {},
     "execution_count": 7
    }
   ],
   "source": [
    "df_edomex_solt_mun['P12YM_SOLT'] = df_edomex_solt_mun['P12YM_SOLT'].astype(int)\n",
    "df_edomex_solt_mun"
   ]
  },
  {
   "source": [
    "## Cargamos el dataset que contiene las columnas de latitud y longitud"
   ],
   "cell_type": "markdown",
   "metadata": {}
  },
  {
   "cell_type": "code",
   "execution_count": 8,
   "metadata": {},
   "outputs": [
    {
     "output_type": "execute_result",
     "data": {
      "text/plain": [
       "      ENTIDAD NOM_ENT  MUN                     NOM_MUN   LOC  \\\n",
       "0          15  México    0  Total de la entidad México     0   \n",
       "1          15  México    0  Total de la entidad México  9998   \n",
       "2          15  México    0  Total de la entidad México  9999   \n",
       "3          15  México    1   Acambay de Ruíz Castañeda     0   \n",
       "4          15  México    1   Acambay de Ruíz Castañeda     1   \n",
       "...       ...     ...  ...                         ...   ...   \n",
       "5131       15  México  125                   Tonanitla     4   \n",
       "5132       15  México  125                   Tonanitla     5   \n",
       "5133       15  México  125                   Tonanitla     6   \n",
       "5134       15  México  125                   Tonanitla     7   \n",
       "5135       15  México  125                   Tonanitla  9998   \n",
       "\n",
       "                                 NOM_LOC          LONGITUD          LATITUD  \\\n",
       "0                    Total de la Entidad               NaN              NaN   \n",
       "1            Localidades de una vivienda               NaN              NaN   \n",
       "2           Localidades de dos viviendas               NaN              NaN   \n",
       "3                    Total del Municipio               NaN              NaN   \n",
       "4     Villa de Acambay de Ruíz Castañeda   99°50'38.515\" W  19°57'22.423\" N   \n",
       "...                                  ...               ...              ...   \n",
       "5131               Colonia las Chinampas   99°03'16.321\" W  19°41'45.927\" N   \n",
       "5132                         Valle Verde   99°02'50.531\" W  19°41'37.932\" N   \n",
       "5133                         San Bartolo   99°03'34.313\" W  19°39'54.355\" N   \n",
       "5134                 Villas de Tonanitla   99°04'09.823\" W  19°40'41.797\" N   \n",
       "5135         Localidades de una vivienda               NaN              NaN   \n",
       "\n",
       "      ALTITUD    POBTOT  ...  VPH_CEL VPH_INTER VPH_STVP VPH_SPMVPI VPH_CVJ  \\\n",
       "0         NaN  16992418  ...  4049493   2561525  1559564     822048  572663   \n",
       "1         NaN      6011  ...      150        33       50          8       4   \n",
       "2         NaN       765  ...      153        38       52          7       6   \n",
       "3         NaN     67872  ...    13388      2973     2140        393     257   \n",
       "4      2564.0      5988  ...     1441       854      677        226     118   \n",
       "...       ...       ...  ...      ...       ...      ...        ...     ...   \n",
       "5131   2237.0       520  ...      128        40       27         14      18   \n",
       "5132   2239.0       299  ...       56        15        9          3       5   \n",
       "5133   2254.0         9  ...        *         *        *          *       *   \n",
       "5134   2241.0      2601  ...      827       677      422        402     352   \n",
       "5135      NaN         9  ...        *         *        *          *       *   \n",
       "\n",
       "     VPH_SINRTV VPH_SINLTC VPH_SINCINT VPH_SINTIC TAMLOC  \n",
       "0        133777     329132     1769551      53857      *  \n",
       "1            39         41         148         23      *  \n",
       "2            36         51         156         23      *  \n",
       "3          1352       3427       13523        734      *  \n",
       "4            55         75         573         10      6  \n",
       "...         ...        ...         ...        ...    ...  \n",
       "5131          0         11          93          0      3  \n",
       "5132          2         16          48          1      2  \n",
       "5133          *          *           *          *      1  \n",
       "5134          3         16          95          0      5  \n",
       "5135          *          *           *          *      *  \n",
       "\n",
       "[5136 rows x 232 columns]"
      ],
      "text/html": "<div>\n<style scoped>\n    .dataframe tbody tr th:only-of-type {\n        vertical-align: middle;\n    }\n\n    .dataframe tbody tr th {\n        vertical-align: top;\n    }\n\n    .dataframe thead th {\n        text-align: right;\n    }\n</style>\n<table border=\"1\" class=\"dataframe\">\n  <thead>\n    <tr style=\"text-align: right;\">\n      <th></th>\n      <th>ENTIDAD</th>\n      <th>NOM_ENT</th>\n      <th>MUN</th>\n      <th>NOM_MUN</th>\n      <th>LOC</th>\n      <th>NOM_LOC</th>\n      <th>LONGITUD</th>\n      <th>LATITUD</th>\n      <th>ALTITUD</th>\n      <th>POBTOT</th>\n      <th>...</th>\n      <th>VPH_CEL</th>\n      <th>VPH_INTER</th>\n      <th>VPH_STVP</th>\n      <th>VPH_SPMVPI</th>\n      <th>VPH_CVJ</th>\n      <th>VPH_SINRTV</th>\n      <th>VPH_SINLTC</th>\n      <th>VPH_SINCINT</th>\n      <th>VPH_SINTIC</th>\n      <th>TAMLOC</th>\n    </tr>\n  </thead>\n  <tbody>\n    <tr>\n      <th>0</th>\n      <td>15</td>\n      <td>México</td>\n      <td>0</td>\n      <td>Total de la entidad México</td>\n      <td>0</td>\n      <td>Total de la Entidad</td>\n      <td>NaN</td>\n      <td>NaN</td>\n      <td>NaN</td>\n      <td>16992418</td>\n      <td>...</td>\n      <td>4049493</td>\n      <td>2561525</td>\n      <td>1559564</td>\n      <td>822048</td>\n      <td>572663</td>\n      <td>133777</td>\n      <td>329132</td>\n      <td>1769551</td>\n      <td>53857</td>\n      <td>*</td>\n    </tr>\n    <tr>\n      <th>1</th>\n      <td>15</td>\n      <td>México</td>\n      <td>0</td>\n      <td>Total de la entidad México</td>\n      <td>9998</td>\n      <td>Localidades de una vivienda</td>\n      <td>NaN</td>\n      <td>NaN</td>\n      <td>NaN</td>\n      <td>6011</td>\n      <td>...</td>\n      <td>150</td>\n      <td>33</td>\n      <td>50</td>\n      <td>8</td>\n      <td>4</td>\n      <td>39</td>\n      <td>41</td>\n      <td>148</td>\n      <td>23</td>\n      <td>*</td>\n    </tr>\n    <tr>\n      <th>2</th>\n      <td>15</td>\n      <td>México</td>\n      <td>0</td>\n      <td>Total de la entidad México</td>\n      <td>9999</td>\n      <td>Localidades de dos viviendas</td>\n      <td>NaN</td>\n      <td>NaN</td>\n      <td>NaN</td>\n      <td>765</td>\n      <td>...</td>\n      <td>153</td>\n      <td>38</td>\n      <td>52</td>\n      <td>7</td>\n      <td>6</td>\n      <td>36</td>\n      <td>51</td>\n      <td>156</td>\n      <td>23</td>\n      <td>*</td>\n    </tr>\n    <tr>\n      <th>3</th>\n      <td>15</td>\n      <td>México</td>\n      <td>1</td>\n      <td>Acambay de Ruíz Castañeda</td>\n      <td>0</td>\n      <td>Total del Municipio</td>\n      <td>NaN</td>\n      <td>NaN</td>\n      <td>NaN</td>\n      <td>67872</td>\n      <td>...</td>\n      <td>13388</td>\n      <td>2973</td>\n      <td>2140</td>\n      <td>393</td>\n      <td>257</td>\n      <td>1352</td>\n      <td>3427</td>\n      <td>13523</td>\n      <td>734</td>\n      <td>*</td>\n    </tr>\n    <tr>\n      <th>4</th>\n      <td>15</td>\n      <td>México</td>\n      <td>1</td>\n      <td>Acambay de Ruíz Castañeda</td>\n      <td>1</td>\n      <td>Villa de Acambay de Ruíz Castañeda</td>\n      <td>99°50'38.515\" W</td>\n      <td>19°57'22.423\" N</td>\n      <td>2564.0</td>\n      <td>5988</td>\n      <td>...</td>\n      <td>1441</td>\n      <td>854</td>\n      <td>677</td>\n      <td>226</td>\n      <td>118</td>\n      <td>55</td>\n      <td>75</td>\n      <td>573</td>\n      <td>10</td>\n      <td>6</td>\n    </tr>\n    <tr>\n      <th>...</th>\n      <td>...</td>\n      <td>...</td>\n      <td>...</td>\n      <td>...</td>\n      <td>...</td>\n      <td>...</td>\n      <td>...</td>\n      <td>...</td>\n      <td>...</td>\n      <td>...</td>\n      <td>...</td>\n      <td>...</td>\n      <td>...</td>\n      <td>...</td>\n      <td>...</td>\n      <td>...</td>\n      <td>...</td>\n      <td>...</td>\n      <td>...</td>\n      <td>...</td>\n      <td>...</td>\n    </tr>\n    <tr>\n      <th>5131</th>\n      <td>15</td>\n      <td>México</td>\n      <td>125</td>\n      <td>Tonanitla</td>\n      <td>4</td>\n      <td>Colonia las Chinampas</td>\n      <td>99°03'16.321\" W</td>\n      <td>19°41'45.927\" N</td>\n      <td>2237.0</td>\n      <td>520</td>\n      <td>...</td>\n      <td>128</td>\n      <td>40</td>\n      <td>27</td>\n      <td>14</td>\n      <td>18</td>\n      <td>0</td>\n      <td>11</td>\n      <td>93</td>\n      <td>0</td>\n      <td>3</td>\n    </tr>\n    <tr>\n      <th>5132</th>\n      <td>15</td>\n      <td>México</td>\n      <td>125</td>\n      <td>Tonanitla</td>\n      <td>5</td>\n      <td>Valle Verde</td>\n      <td>99°02'50.531\" W</td>\n      <td>19°41'37.932\" N</td>\n      <td>2239.0</td>\n      <td>299</td>\n      <td>...</td>\n      <td>56</td>\n      <td>15</td>\n      <td>9</td>\n      <td>3</td>\n      <td>5</td>\n      <td>2</td>\n      <td>16</td>\n      <td>48</td>\n      <td>1</td>\n      <td>2</td>\n    </tr>\n    <tr>\n      <th>5133</th>\n      <td>15</td>\n      <td>México</td>\n      <td>125</td>\n      <td>Tonanitla</td>\n      <td>6</td>\n      <td>San Bartolo</td>\n      <td>99°03'34.313\" W</td>\n      <td>19°39'54.355\" N</td>\n      <td>2254.0</td>\n      <td>9</td>\n      <td>...</td>\n      <td>*</td>\n      <td>*</td>\n      <td>*</td>\n      <td>*</td>\n      <td>*</td>\n      <td>*</td>\n      <td>*</td>\n      <td>*</td>\n      <td>*</td>\n      <td>1</td>\n    </tr>\n    <tr>\n      <th>5134</th>\n      <td>15</td>\n      <td>México</td>\n      <td>125</td>\n      <td>Tonanitla</td>\n      <td>7</td>\n      <td>Villas de Tonanitla</td>\n      <td>99°04'09.823\" W</td>\n      <td>19°40'41.797\" N</td>\n      <td>2241.0</td>\n      <td>2601</td>\n      <td>...</td>\n      <td>827</td>\n      <td>677</td>\n      <td>422</td>\n      <td>402</td>\n      <td>352</td>\n      <td>3</td>\n      <td>16</td>\n      <td>95</td>\n      <td>0</td>\n      <td>5</td>\n    </tr>\n    <tr>\n      <th>5135</th>\n      <td>15</td>\n      <td>México</td>\n      <td>125</td>\n      <td>Tonanitla</td>\n      <td>9998</td>\n      <td>Localidades de una vivienda</td>\n      <td>NaN</td>\n      <td>NaN</td>\n      <td>NaN</td>\n      <td>9</td>\n      <td>...</td>\n      <td>*</td>\n      <td>*</td>\n      <td>*</td>\n      <td>*</td>\n      <td>*</td>\n      <td>*</td>\n      <td>*</td>\n      <td>*</td>\n      <td>*</td>\n      <td>*</td>\n    </tr>\n  </tbody>\n</table>\n<p>5136 rows × 232 columns</p>\n</div>"
     },
     "metadata": {},
     "execution_count": 8
    }
   ],
   "source": [
    "df_latlon = pd.read_csv('data/iter_15_cpv2020/conjunto_de_datos/conjunto_de_datos_iter_15CSV20.csv')\n",
    "df_latlon"
   ]
  },
  {
   "source": [
    "### Nos quedamos solo con las columnas que necesitamos del lado de iter"
   ],
   "cell_type": "markdown",
   "metadata": {}
  },
  {
   "cell_type": "code",
   "execution_count": 9,
   "metadata": {},
   "outputs": [
    {
     "output_type": "execute_result",
     "data": {
      "text/plain": [
       "                         NOM_MUN   LOC                             NOM_LOC  \\\n",
       "1     Total de la entidad México  9998         Localidades de una vivienda   \n",
       "2     Total de la entidad México  9999        Localidades de dos viviendas   \n",
       "3      Acambay de Ruíz Castañeda     0                 Total del Municipio   \n",
       "4      Acambay de Ruíz Castañeda     1  Villa de Acambay de Ruíz Castañeda   \n",
       "5      Acambay de Ruíz Castañeda     2    Agostadero (San José Agostadero)   \n",
       "...                          ...   ...                                 ...   \n",
       "5131                   Tonanitla     4               Colonia las Chinampas   \n",
       "5132                   Tonanitla     5                         Valle Verde   \n",
       "5133                   Tonanitla     6                         San Bartolo   \n",
       "5134                   Tonanitla     7                 Villas de Tonanitla   \n",
       "5135                   Tonanitla  9998         Localidades de una vivienda   \n",
       "\n",
       "              LATITUD          LONGITUD  \n",
       "1                 NaN               NaN  \n",
       "2                 NaN               NaN  \n",
       "3                 NaN               NaN  \n",
       "4     19°57'22.423\" N   99°50'38.515\" W  \n",
       "5     20°02'25.109\" N  100°00'09.008\" W  \n",
       "...               ...               ...  \n",
       "5131  19°41'45.927\" N   99°03'16.321\" W  \n",
       "5132  19°41'37.932\" N   99°02'50.531\" W  \n",
       "5133  19°39'54.355\" N   99°03'34.313\" W  \n",
       "5134  19°40'41.797\" N   99°04'09.823\" W  \n",
       "5135              NaN               NaN  \n",
       "\n",
       "[5135 rows x 5 columns]"
      ],
      "text/html": "<div>\n<style scoped>\n    .dataframe tbody tr th:only-of-type {\n        vertical-align: middle;\n    }\n\n    .dataframe tbody tr th {\n        vertical-align: top;\n    }\n\n    .dataframe thead th {\n        text-align: right;\n    }\n</style>\n<table border=\"1\" class=\"dataframe\">\n  <thead>\n    <tr style=\"text-align: right;\">\n      <th></th>\n      <th>NOM_MUN</th>\n      <th>LOC</th>\n      <th>NOM_LOC</th>\n      <th>LATITUD</th>\n      <th>LONGITUD</th>\n    </tr>\n  </thead>\n  <tbody>\n    <tr>\n      <th>1</th>\n      <td>Total de la entidad México</td>\n      <td>9998</td>\n      <td>Localidades de una vivienda</td>\n      <td>NaN</td>\n      <td>NaN</td>\n    </tr>\n    <tr>\n      <th>2</th>\n      <td>Total de la entidad México</td>\n      <td>9999</td>\n      <td>Localidades de dos viviendas</td>\n      <td>NaN</td>\n      <td>NaN</td>\n    </tr>\n    <tr>\n      <th>3</th>\n      <td>Acambay de Ruíz Castañeda</td>\n      <td>0</td>\n      <td>Total del Municipio</td>\n      <td>NaN</td>\n      <td>NaN</td>\n    </tr>\n    <tr>\n      <th>4</th>\n      <td>Acambay de Ruíz Castañeda</td>\n      <td>1</td>\n      <td>Villa de Acambay de Ruíz Castañeda</td>\n      <td>19°57'22.423\" N</td>\n      <td>99°50'38.515\" W</td>\n    </tr>\n    <tr>\n      <th>5</th>\n      <td>Acambay de Ruíz Castañeda</td>\n      <td>2</td>\n      <td>Agostadero (San José Agostadero)</td>\n      <td>20°02'25.109\" N</td>\n      <td>100°00'09.008\" W</td>\n    </tr>\n    <tr>\n      <th>...</th>\n      <td>...</td>\n      <td>...</td>\n      <td>...</td>\n      <td>...</td>\n      <td>...</td>\n    </tr>\n    <tr>\n      <th>5131</th>\n      <td>Tonanitla</td>\n      <td>4</td>\n      <td>Colonia las Chinampas</td>\n      <td>19°41'45.927\" N</td>\n      <td>99°03'16.321\" W</td>\n    </tr>\n    <tr>\n      <th>5132</th>\n      <td>Tonanitla</td>\n      <td>5</td>\n      <td>Valle Verde</td>\n      <td>19°41'37.932\" N</td>\n      <td>99°02'50.531\" W</td>\n    </tr>\n    <tr>\n      <th>5133</th>\n      <td>Tonanitla</td>\n      <td>6</td>\n      <td>San Bartolo</td>\n      <td>19°39'54.355\" N</td>\n      <td>99°03'34.313\" W</td>\n    </tr>\n    <tr>\n      <th>5134</th>\n      <td>Tonanitla</td>\n      <td>7</td>\n      <td>Villas de Tonanitla</td>\n      <td>19°40'41.797\" N</td>\n      <td>99°04'09.823\" W</td>\n    </tr>\n    <tr>\n      <th>5135</th>\n      <td>Tonanitla</td>\n      <td>9998</td>\n      <td>Localidades de una vivienda</td>\n      <td>NaN</td>\n      <td>NaN</td>\n    </tr>\n  </tbody>\n</table>\n<p>5135 rows × 5 columns</p>\n</div>"
     },
     "metadata": {},
     "execution_count": 9
    }
   ],
   "source": [
    "df_latlon = df_latlon.loc[1:,('NOM_MUN','LOC','NOM_LOC','LATITUD','LONGITUD')]\n",
    "df_latlon"
   ]
  },
  {
   "source": [
    "## Ya podemos hacer Join con nuestras tablas :D (mi primera parte favorita)\n"
   ],
   "cell_type": "markdown",
   "metadata": {}
  },
  {
   "cell_type": "code",
   "execution_count": 17,
   "metadata": {},
   "outputs": [
    {
     "output_type": "execute_result",
     "data": {
      "text/plain": [
       "                          NOM_MUN  LOC                             NOM_LOC  \\\n",
       "0       Acambay de Ruíz Castañeda    1  Villa de Acambay de Ruíz Castañeda   \n",
       "1       Acambay de Ruíz Castañeda    1  Villa de Acambay de Ruíz Castañeda   \n",
       "2       Acambay de Ruíz Castañeda    1  Villa de Acambay de Ruíz Castañeda   \n",
       "3       Acambay de Ruíz Castañeda    1  Villa de Acambay de Ruíz Castañeda   \n",
       "4       Acambay de Ruíz Castañeda    1  Villa de Acambay de Ruíz Castañeda   \n",
       "...                           ...  ...                                 ...   \n",
       "128108                  Tonanitla    7                 Villas de Tonanitla   \n",
       "128109                  Tonanitla    7                 Villas de Tonanitla   \n",
       "128110                  Tonanitla    7                 Villas de Tonanitla   \n",
       "128111                  Tonanitla    7                 Villas de Tonanitla   \n",
       "128112                  Tonanitla    7                 Villas de Tonanitla   \n",
       "\n",
       "       P_12YMAS_F P_12YMAS_M  P12YM_SOLT          LATITUD          LONGITUD  \n",
       "0               0          0           0  19°57'22.423\" N   99°50'38.515\" W  \n",
       "1               8          4           8  19°57'22.423\" N   99°50'38.515\" W  \n",
       "2              12          6           8  19°57'22.423\" N   99°50'38.515\" W  \n",
       "3              15          7          10  19°57'22.423\" N   99°50'38.515\" W  \n",
       "4               9          8           3  19°57'22.423\" N   99°50'38.515\" W  \n",
       "...           ...        ...         ...              ...               ...  \n",
       "128108          5         10           4  19°40'41.797\" N   99°04'09.823\" W  \n",
       "128109         12         12           3  19°40'41.797\" N   99°04'09.823\" W  \n",
       "128110         10         10           5  19°40'41.797\" N   99°04'09.823\" W  \n",
       "128111         10          5           5  19°40'41.797\" N   99°04'09.823\" W  \n",
       "128112          0          0           0  19°40'41.797\" N   99°04'09.823\" W  \n",
       "\n",
       "[128113 rows x 8 columns]"
      ],
      "text/html": "<div>\n<style scoped>\n    .dataframe tbody tr th:only-of-type {\n        vertical-align: middle;\n    }\n\n    .dataframe tbody tr th {\n        vertical-align: top;\n    }\n\n    .dataframe thead th {\n        text-align: right;\n    }\n</style>\n<table border=\"1\" class=\"dataframe\">\n  <thead>\n    <tr style=\"text-align: right;\">\n      <th></th>\n      <th>NOM_MUN</th>\n      <th>LOC</th>\n      <th>NOM_LOC</th>\n      <th>P_12YMAS_F</th>\n      <th>P_12YMAS_M</th>\n      <th>P12YM_SOLT</th>\n      <th>LATITUD</th>\n      <th>LONGITUD</th>\n    </tr>\n  </thead>\n  <tbody>\n    <tr>\n      <th>0</th>\n      <td>Acambay de Ruíz Castañeda</td>\n      <td>1</td>\n      <td>Villa de Acambay de Ruíz Castañeda</td>\n      <td>0</td>\n      <td>0</td>\n      <td>0</td>\n      <td>19°57'22.423\" N</td>\n      <td>99°50'38.515\" W</td>\n    </tr>\n    <tr>\n      <th>1</th>\n      <td>Acambay de Ruíz Castañeda</td>\n      <td>1</td>\n      <td>Villa de Acambay de Ruíz Castañeda</td>\n      <td>8</td>\n      <td>4</td>\n      <td>8</td>\n      <td>19°57'22.423\" N</td>\n      <td>99°50'38.515\" W</td>\n    </tr>\n    <tr>\n      <th>2</th>\n      <td>Acambay de Ruíz Castañeda</td>\n      <td>1</td>\n      <td>Villa de Acambay de Ruíz Castañeda</td>\n      <td>12</td>\n      <td>6</td>\n      <td>8</td>\n      <td>19°57'22.423\" N</td>\n      <td>99°50'38.515\" W</td>\n    </tr>\n    <tr>\n      <th>3</th>\n      <td>Acambay de Ruíz Castañeda</td>\n      <td>1</td>\n      <td>Villa de Acambay de Ruíz Castañeda</td>\n      <td>15</td>\n      <td>7</td>\n      <td>10</td>\n      <td>19°57'22.423\" N</td>\n      <td>99°50'38.515\" W</td>\n    </tr>\n    <tr>\n      <th>4</th>\n      <td>Acambay de Ruíz Castañeda</td>\n      <td>1</td>\n      <td>Villa de Acambay de Ruíz Castañeda</td>\n      <td>9</td>\n      <td>8</td>\n      <td>3</td>\n      <td>19°57'22.423\" N</td>\n      <td>99°50'38.515\" W</td>\n    </tr>\n    <tr>\n      <th>...</th>\n      <td>...</td>\n      <td>...</td>\n      <td>...</td>\n      <td>...</td>\n      <td>...</td>\n      <td>...</td>\n      <td>...</td>\n      <td>...</td>\n    </tr>\n    <tr>\n      <th>128108</th>\n      <td>Tonanitla</td>\n      <td>7</td>\n      <td>Villas de Tonanitla</td>\n      <td>5</td>\n      <td>10</td>\n      <td>4</td>\n      <td>19°40'41.797\" N</td>\n      <td>99°04'09.823\" W</td>\n    </tr>\n    <tr>\n      <th>128109</th>\n      <td>Tonanitla</td>\n      <td>7</td>\n      <td>Villas de Tonanitla</td>\n      <td>12</td>\n      <td>12</td>\n      <td>3</td>\n      <td>19°40'41.797\" N</td>\n      <td>99°04'09.823\" W</td>\n    </tr>\n    <tr>\n      <th>128110</th>\n      <td>Tonanitla</td>\n      <td>7</td>\n      <td>Villas de Tonanitla</td>\n      <td>10</td>\n      <td>10</td>\n      <td>5</td>\n      <td>19°40'41.797\" N</td>\n      <td>99°04'09.823\" W</td>\n    </tr>\n    <tr>\n      <th>128111</th>\n      <td>Tonanitla</td>\n      <td>7</td>\n      <td>Villas de Tonanitla</td>\n      <td>10</td>\n      <td>5</td>\n      <td>5</td>\n      <td>19°40'41.797\" N</td>\n      <td>99°04'09.823\" W</td>\n    </tr>\n    <tr>\n      <th>128112</th>\n      <td>Tonanitla</td>\n      <td>7</td>\n      <td>Villas de Tonanitla</td>\n      <td>0</td>\n      <td>0</td>\n      <td>0</td>\n      <td>19°40'41.797\" N</td>\n      <td>99°04'09.823\" W</td>\n    </tr>\n  </tbody>\n</table>\n<p>128113 rows × 8 columns</p>\n</div>"
     },
     "metadata": {},
     "execution_count": 17
    }
   ],
   "source": [
    "df_merged = pd.merge(df_edomex_solt_mun, df_latlon, on=['NOM_MUN', 'LOC', 'NOM_LOC'], how='inner')\n",
    "df_merged"
   ]
  },
  {
   "cell_type": "markdown",
   "id": "033de133",
   "metadata": {},
   "source": [
    "### Finalmente añadimos las columnas de latitud y longitud\n",
    "\n",
    "Observa que tenemos duplicados en las coordenadas"
   ]
  },
  {
   "cell_type": "code",
   "execution_count": 18,
   "metadata": {},
   "outputs": [
    {
     "output_type": "execute_result",
     "data": {
      "text/plain": [
       "                          NOM_MUN  LOC                             NOM_LOC  \\\n",
       "0       Acambay de Ruíz Castañeda    1  Villa de Acambay de Ruíz Castañeda   \n",
       "1       Acambay de Ruíz Castañeda    1  Villa de Acambay de Ruíz Castañeda   \n",
       "2       Acambay de Ruíz Castañeda    1  Villa de Acambay de Ruíz Castañeda   \n",
       "3       Acambay de Ruíz Castañeda    1  Villa de Acambay de Ruíz Castañeda   \n",
       "4       Acambay de Ruíz Castañeda    1  Villa de Acambay de Ruíz Castañeda   \n",
       "...                           ...  ...                                 ...   \n",
       "128108                  Tonanitla    7                 Villas de Tonanitla   \n",
       "128109                  Tonanitla    7                 Villas de Tonanitla   \n",
       "128110                  Tonanitla    7                 Villas de Tonanitla   \n",
       "128111                  Tonanitla    7                 Villas de Tonanitla   \n",
       "128112                  Tonanitla    7                 Villas de Tonanitla   \n",
       "\n",
       "       P_12YMAS_F P_12YMAS_M  P12YM_SOLT         LATITUDE         LONGITUDE  \n",
       "0               0          0           0  19°57'22.423\" N   99°50'38.515\" W  \n",
       "1               8          4           8  19°57'22.423\" N   99°50'38.515\" W  \n",
       "2              12          6           8  19°57'22.423\" N   99°50'38.515\" W  \n",
       "3              15          7          10  19°57'22.423\" N   99°50'38.515\" W  \n",
       "4               9          8           3  19°57'22.423\" N   99°50'38.515\" W  \n",
       "...           ...        ...         ...              ...               ...  \n",
       "128108          5         10           4  19°40'41.797\" N   99°04'09.823\" W  \n",
       "128109         12         12           3  19°40'41.797\" N   99°04'09.823\" W  \n",
       "128110         10         10           5  19°40'41.797\" N   99°04'09.823\" W  \n",
       "128111         10          5           5  19°40'41.797\" N   99°04'09.823\" W  \n",
       "128112          0          0           0  19°40'41.797\" N   99°04'09.823\" W  \n",
       "\n",
       "[128113 rows x 8 columns]"
      ],
      "text/html": "<div>\n<style scoped>\n    .dataframe tbody tr th:only-of-type {\n        vertical-align: middle;\n    }\n\n    .dataframe tbody tr th {\n        vertical-align: top;\n    }\n\n    .dataframe thead th {\n        text-align: right;\n    }\n</style>\n<table border=\"1\" class=\"dataframe\">\n  <thead>\n    <tr style=\"text-align: right;\">\n      <th></th>\n      <th>NOM_MUN</th>\n      <th>LOC</th>\n      <th>NOM_LOC</th>\n      <th>P_12YMAS_F</th>\n      <th>P_12YMAS_M</th>\n      <th>P12YM_SOLT</th>\n      <th>LATITUDE</th>\n      <th>LONGITUDE</th>\n    </tr>\n  </thead>\n  <tbody>\n    <tr>\n      <th>0</th>\n      <td>Acambay de Ruíz Castañeda</td>\n      <td>1</td>\n      <td>Villa de Acambay de Ruíz Castañeda</td>\n      <td>0</td>\n      <td>0</td>\n      <td>0</td>\n      <td>19°57'22.423\" N</td>\n      <td>99°50'38.515\" W</td>\n    </tr>\n    <tr>\n      <th>1</th>\n      <td>Acambay de Ruíz Castañeda</td>\n      <td>1</td>\n      <td>Villa de Acambay de Ruíz Castañeda</td>\n      <td>8</td>\n      <td>4</td>\n      <td>8</td>\n      <td>19°57'22.423\" N</td>\n      <td>99°50'38.515\" W</td>\n    </tr>\n    <tr>\n      <th>2</th>\n      <td>Acambay de Ruíz Castañeda</td>\n      <td>1</td>\n      <td>Villa de Acambay de Ruíz Castañeda</td>\n      <td>12</td>\n      <td>6</td>\n      <td>8</td>\n      <td>19°57'22.423\" N</td>\n      <td>99°50'38.515\" W</td>\n    </tr>\n    <tr>\n      <th>3</th>\n      <td>Acambay de Ruíz Castañeda</td>\n      <td>1</td>\n      <td>Villa de Acambay de Ruíz Castañeda</td>\n      <td>15</td>\n      <td>7</td>\n      <td>10</td>\n      <td>19°57'22.423\" N</td>\n      <td>99°50'38.515\" W</td>\n    </tr>\n    <tr>\n      <th>4</th>\n      <td>Acambay de Ruíz Castañeda</td>\n      <td>1</td>\n      <td>Villa de Acambay de Ruíz Castañeda</td>\n      <td>9</td>\n      <td>8</td>\n      <td>3</td>\n      <td>19°57'22.423\" N</td>\n      <td>99°50'38.515\" W</td>\n    </tr>\n    <tr>\n      <th>...</th>\n      <td>...</td>\n      <td>...</td>\n      <td>...</td>\n      <td>...</td>\n      <td>...</td>\n      <td>...</td>\n      <td>...</td>\n      <td>...</td>\n    </tr>\n    <tr>\n      <th>128108</th>\n      <td>Tonanitla</td>\n      <td>7</td>\n      <td>Villas de Tonanitla</td>\n      <td>5</td>\n      <td>10</td>\n      <td>4</td>\n      <td>19°40'41.797\" N</td>\n      <td>99°04'09.823\" W</td>\n    </tr>\n    <tr>\n      <th>128109</th>\n      <td>Tonanitla</td>\n      <td>7</td>\n      <td>Villas de Tonanitla</td>\n      <td>12</td>\n      <td>12</td>\n      <td>3</td>\n      <td>19°40'41.797\" N</td>\n      <td>99°04'09.823\" W</td>\n    </tr>\n    <tr>\n      <th>128110</th>\n      <td>Tonanitla</td>\n      <td>7</td>\n      <td>Villas de Tonanitla</td>\n      <td>10</td>\n      <td>10</td>\n      <td>5</td>\n      <td>19°40'41.797\" N</td>\n      <td>99°04'09.823\" W</td>\n    </tr>\n    <tr>\n      <th>128111</th>\n      <td>Tonanitla</td>\n      <td>7</td>\n      <td>Villas de Tonanitla</td>\n      <td>10</td>\n      <td>5</td>\n      <td>5</td>\n      <td>19°40'41.797\" N</td>\n      <td>99°04'09.823\" W</td>\n    </tr>\n    <tr>\n      <th>128112</th>\n      <td>Tonanitla</td>\n      <td>7</td>\n      <td>Villas de Tonanitla</td>\n      <td>0</td>\n      <td>0</td>\n      <td>0</td>\n      <td>19°40'41.797\" N</td>\n      <td>99°04'09.823\" W</td>\n    </tr>\n  </tbody>\n</table>\n<p>128113 rows × 8 columns</p>\n</div>"
     },
     "metadata": {},
     "execution_count": 18
    }
   ],
   "source": [
    "df_merged.columns = ('NOM_MUN', 'LOC', 'NOM_LOC', 'P_12YMAS_F', 'P_12YMAS_M', 'P12YM_SOLT', 'LATITUDE', 'LONGITUDE')\n",
    "df_merged\n"
   ]
  },
  {
   "cell_type": "code",
   "execution_count": null,
   "metadata": {},
   "outputs": [],
   "source": [
    "Agrupar"
   ]
  },
  {
   "cell_type": "code",
   "execution_count": 20,
   "metadata": {},
   "outputs": [
    {
     "output_type": "execute_result",
     "data": {
      "text/plain": [
       "                          NOM_MUN  LOC                             NOM_LOC  \\\n",
       "0       Acambay de Ruíz Castañeda    1  Villa de Acambay de Ruíz Castañeda   \n",
       "1       Acambay de Ruíz Castañeda    1  Villa de Acambay de Ruíz Castañeda   \n",
       "2       Acambay de Ruíz Castañeda    1  Villa de Acambay de Ruíz Castañeda   \n",
       "3       Acambay de Ruíz Castañeda    1  Villa de Acambay de Ruíz Castañeda   \n",
       "4       Acambay de Ruíz Castañeda    1  Villa de Acambay de Ruíz Castañeda   \n",
       "...                           ...  ...                                 ...   \n",
       "128108                  Tonanitla    7                 Villas de Tonanitla   \n",
       "128109                  Tonanitla    7                 Villas de Tonanitla   \n",
       "128110                  Tonanitla    7                 Villas de Tonanitla   \n",
       "128111                  Tonanitla    7                 Villas de Tonanitla   \n",
       "128112                  Tonanitla    7                 Villas de Tonanitla   \n",
       "\n",
       "       P_12YMAS_F P_12YMAS_M  P12YM_SOLT   LATITUDE  LONGITUDE  \n",
       "0               0          0           0  19.956229 -99.844032  \n",
       "1               8          4           8  19.956229 -99.844032  \n",
       "2              12          6           8  19.956229 -99.844032  \n",
       "3              15          7          10  19.956229 -99.844032  \n",
       "4               9          8           3  19.956229 -99.844032  \n",
       "...           ...        ...         ...        ...        ...  \n",
       "128108          5         10           4  19.678277 -99.069395  \n",
       "128109         12         12           3  19.678277 -99.069395  \n",
       "128110         10         10           5  19.678277 -99.069395  \n",
       "128111         10          5           5  19.678277 -99.069395  \n",
       "128112          0          0           0  19.678277 -99.069395  \n",
       "\n",
       "[128113 rows x 8 columns]"
      ],
      "text/html": "<div>\n<style scoped>\n    .dataframe tbody tr th:only-of-type {\n        vertical-align: middle;\n    }\n\n    .dataframe tbody tr th {\n        vertical-align: top;\n    }\n\n    .dataframe thead th {\n        text-align: right;\n    }\n</style>\n<table border=\"1\" class=\"dataframe\">\n  <thead>\n    <tr style=\"text-align: right;\">\n      <th></th>\n      <th>NOM_MUN</th>\n      <th>LOC</th>\n      <th>NOM_LOC</th>\n      <th>P_12YMAS_F</th>\n      <th>P_12YMAS_M</th>\n      <th>P12YM_SOLT</th>\n      <th>LATITUDE</th>\n      <th>LONGITUDE</th>\n    </tr>\n  </thead>\n  <tbody>\n    <tr>\n      <th>0</th>\n      <td>Acambay de Ruíz Castañeda</td>\n      <td>1</td>\n      <td>Villa de Acambay de Ruíz Castañeda</td>\n      <td>0</td>\n      <td>0</td>\n      <td>0</td>\n      <td>19.956229</td>\n      <td>-99.844032</td>\n    </tr>\n    <tr>\n      <th>1</th>\n      <td>Acambay de Ruíz Castañeda</td>\n      <td>1</td>\n      <td>Villa de Acambay de Ruíz Castañeda</td>\n      <td>8</td>\n      <td>4</td>\n      <td>8</td>\n      <td>19.956229</td>\n      <td>-99.844032</td>\n    </tr>\n    <tr>\n      <th>2</th>\n      <td>Acambay de Ruíz Castañeda</td>\n      <td>1</td>\n      <td>Villa de Acambay de Ruíz Castañeda</td>\n      <td>12</td>\n      <td>6</td>\n      <td>8</td>\n      <td>19.956229</td>\n      <td>-99.844032</td>\n    </tr>\n    <tr>\n      <th>3</th>\n      <td>Acambay de Ruíz Castañeda</td>\n      <td>1</td>\n      <td>Villa de Acambay de Ruíz Castañeda</td>\n      <td>15</td>\n      <td>7</td>\n      <td>10</td>\n      <td>19.956229</td>\n      <td>-99.844032</td>\n    </tr>\n    <tr>\n      <th>4</th>\n      <td>Acambay de Ruíz Castañeda</td>\n      <td>1</td>\n      <td>Villa de Acambay de Ruíz Castañeda</td>\n      <td>9</td>\n      <td>8</td>\n      <td>3</td>\n      <td>19.956229</td>\n      <td>-99.844032</td>\n    </tr>\n    <tr>\n      <th>...</th>\n      <td>...</td>\n      <td>...</td>\n      <td>...</td>\n      <td>...</td>\n      <td>...</td>\n      <td>...</td>\n      <td>...</td>\n      <td>...</td>\n    </tr>\n    <tr>\n      <th>128108</th>\n      <td>Tonanitla</td>\n      <td>7</td>\n      <td>Villas de Tonanitla</td>\n      <td>5</td>\n      <td>10</td>\n      <td>4</td>\n      <td>19.678277</td>\n      <td>-99.069395</td>\n    </tr>\n    <tr>\n      <th>128109</th>\n      <td>Tonanitla</td>\n      <td>7</td>\n      <td>Villas de Tonanitla</td>\n      <td>12</td>\n      <td>12</td>\n      <td>3</td>\n      <td>19.678277</td>\n      <td>-99.069395</td>\n    </tr>\n    <tr>\n      <th>128110</th>\n      <td>Tonanitla</td>\n      <td>7</td>\n      <td>Villas de Tonanitla</td>\n      <td>10</td>\n      <td>10</td>\n      <td>5</td>\n      <td>19.678277</td>\n      <td>-99.069395</td>\n    </tr>\n    <tr>\n      <th>128111</th>\n      <td>Tonanitla</td>\n      <td>7</td>\n      <td>Villas de Tonanitla</td>\n      <td>10</td>\n      <td>5</td>\n      <td>5</td>\n      <td>19.678277</td>\n      <td>-99.069395</td>\n    </tr>\n    <tr>\n      <th>128112</th>\n      <td>Tonanitla</td>\n      <td>7</td>\n      <td>Villas de Tonanitla</td>\n      <td>0</td>\n      <td>0</td>\n      <td>0</td>\n      <td>19.678277</td>\n      <td>-99.069395</td>\n    </tr>\n  </tbody>\n</table>\n<p>128113 rows × 8 columns</p>\n</div>"
     },
     "metadata": {},
     "execution_count": 20
    }
   ],
   "source": [
    "df_merged.LATITUDE = df_merged.LATITUDE.apply(dms2dec)\n",
    "df_merged.LONGITUDE = df_merged.LONGITUDE.apply(dms2dec)\n",
    "df_merged"
   ]
  },
  {
   "cell_type": "markdown",
   "id": "27741f9d",
   "metadata": {},
   "source": [
    "## Generamos un mapa y le agregamos datos"
   ]
  },
  {
   "cell_type": "markdown",
   "id": "255f7bc1",
   "metadata": {},
   "source": [
    "On the menu we have:\n",
    "Layers — Defines how the variables are encoded to the map\n",
    "Filters — For selecting smaller sets of data\n",
    "Interactions — Defines interactions such as Tooltips, search boxes, and others\n",
    "Basemap — Defines the style of the world map and other elements like labels, roads, styles"
   ]
  },
  {
   "cell_type": "code",
   "execution_count": 15,
   "id": "e568624e",
   "metadata": {},
   "outputs": [
    {
     "output_type": "stream",
     "name": "stdout",
     "text": [
      "User Guide: https://docs.kepler.gl/docs/keplergl-jupyter\n"
     ]
    },
    {
     "output_type": "display_data",
     "data": {
      "text/plain": "KeplerGl()",
      "application/vnd.jupyter.widget-view+json": {
       "version_major": 2,
       "version_minor": 0,
       "model_id": "6e88ab2c7078422a92754dab23601868"
      }
     },
     "metadata": {}
    }
   ],
   "source": [
    "kepler_map = keplergl.KeplerGl(height=400)\n",
    "kepler_map"
   ]
  },
  {
   "cell_type": "code",
   "execution_count": 21,
   "id": "862b3a4d",
   "metadata": {},
   "outputs": [],
   "source": [
    "kepler_map.add_data(data=df_merged, name=\"solteras\")"
   ]
  }
 ],
 "metadata": {
  "kernelspec": {
   "name": "python3",
   "display_name": "Python 3.8.0 64-bit ('mapas-11U74Uba': pipenv)"
  },
  "language_info": {
   "codemirror_mode": {
    "name": "ipython",
    "version": 3
   },
   "file_extension": ".py",
   "mimetype": "text/x-python",
   "name": "python",
   "nbconvert_exporter": "python",
   "pygments_lexer": "ipython3",
   "version": "3.8.0"
  },
  "toc-autonumbering": false,
  "toc-showcode": true,
  "toc-showmarkdowntxt": false,
  "interpreter": {
   "hash": "8066add048083a2281fa47db965d85aaa5e73a237215f944a6fdcca0643f8db2"
  }
 },
 "nbformat": 4,
 "nbformat_minor": 5
}