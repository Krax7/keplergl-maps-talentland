{
 "cells": [
  {
   "cell_type": "code",
   "execution_count": 1,
   "id": "f2526ae7",
   "metadata": {},
   "outputs": [],
   "source": [
    "import pandas as pd\n",
    "import geopandas as gdp\n",
    "import keplergl"
   ]
  },
  {
   "cell_type": "markdown",
   "id": "00fb66cb",
   "metadata": {},
   "source": [
    "## Leer los datos de terremotos"
   ]
  },
  {
   "cell_type": "code",
   "execution_count": 2,
   "id": "1e764e8e",
   "metadata": {
    "scrolled": true
   },
   "outputs": [
    {
     "output_type": "execute_result",
     "data": {
      "text/plain": [
       "        I_D FLAG_TSUNAMI  YEAR  MONTH   DAY  HOUR  MINUTE SECOND  FOCAL_DEPTH  \\\n",
       "0         1           No -2150    NaN   NaN   NaN     NaN                 NaN   \n",
       "1         2          Yes -2000    NaN   NaN   NaN     NaN    NaN          NaN   \n",
       "2         3           No -2000    NaN   NaN   NaN     NaN    NaN         18.0   \n",
       "3      5877          Yes -1610    NaN   NaN   NaN     NaN    NaN          NaN   \n",
       "4         8           No -1566    NaN   NaN   NaN     NaN                 NaN   \n",
       "...     ...          ...   ...    ...   ...   ...     ...    ...          ...   \n",
       "6188  10488           No  2020    4.0   1.0  12.0    23.0     27         10.0   \n",
       "6189  10490          Yes  2020    5.0   2.0  12.0    51.0      6         17.0   \n",
       "6190  10491           No  2020    5.0   7.0  20.0    18.0     22         10.0   \n",
       "6191  10494           No  2020    5.0  18.0  13.0    48.0      3         10.0   \n",
       "6192  10501          Yes  2020    5.0  29.0   5.0    30.0    NaN          NaN   \n",
       "\n",
       "      EQ_PRIMARY  ...  TOTAL_MISSING  TOTAL_MISSING_DESCRIPTION  \\\n",
       "0            7.3  ...            NaN                        NaN   \n",
       "1            NaN  ...            NaN                        NaN   \n",
       "2            7.1  ...            NaN                        NaN   \n",
       "3            NaN  ...            NaN                        NaN   \n",
       "4            NaN  ...            NaN                        NaN   \n",
       "...          ...  ...            ...                        ...   \n",
       "6188         5.3  ...            NaN                        NaN   \n",
       "6189         6.6  ...            NaN                        NaN   \n",
       "6190         4.6  ...            NaN                        NaN   \n",
       "6191         5.2  ...            NaN                        NaN   \n",
       "6192         NaN  ...            NaN                        NaN   \n",
       "\n",
       "      TOTAL_INJURIES  TOTAL_INJURIES_DESCRIPTION  \\\n",
       "0                NaN                         NaN   \n",
       "1                NaN                         NaN   \n",
       "2                NaN                         NaN   \n",
       "3                NaN                         NaN   \n",
       "4                NaN                         NaN   \n",
       "...              ...                         ...   \n",
       "6188             NaN                         NaN   \n",
       "6189             NaN                         NaN   \n",
       "6190            22.0                         1.0   \n",
       "6191            24.0                         1.0   \n",
       "6192             NaN                         NaN   \n",
       "\n",
       "      TOTAL_DAMAGE_MILLIONS_DOLLARS  TOTAL_DAMAGE_DESCRIPTION  \\\n",
       "0                               NaN                       NaN   \n",
       "1                               NaN                       NaN   \n",
       "2                               NaN                       1.0   \n",
       "3                               NaN                       3.0   \n",
       "4                               NaN                       NaN   \n",
       "...                             ...                       ...   \n",
       "6188                          11.28                       3.0   \n",
       "6189                            NaN                       NaN   \n",
       "6190                            NaN                       NaN   \n",
       "6191                            NaN                       2.0   \n",
       "6192                            NaN                       NaN   \n",
       "\n",
       "      TOTAL_HOUSES_DESTROYED TOTAL_HOUSES_DESTROYED_DESCRIPTION  \\\n",
       "0                        NaN                                NaN   \n",
       "1                        NaN                                NaN   \n",
       "2                        NaN                                1.0   \n",
       "3                        NaN                                NaN   \n",
       "4                        NaN                                NaN   \n",
       "...                      ...                                ...   \n",
       "6188                     NaN                                NaN   \n",
       "6189                     NaN                                NaN   \n",
       "6190                     NaN                                NaN   \n",
       "6191                     NaN                                1.0   \n",
       "6192                     NaN                                NaN   \n",
       "\n",
       "     TOTAL_HOUSES_DAMAGED TOTAL_HOUSES_DAMAGED_DESCRIPTION  \n",
       "0                     NaN                              NaN  \n",
       "1                     NaN                              NaN  \n",
       "2                     NaN                              NaN  \n",
       "3                     NaN                              NaN  \n",
       "4                     NaN                              NaN  \n",
       "...                   ...                              ...  \n",
       "6188                790.0                              3.0  \n",
       "6189                  NaN                              NaN  \n",
       "6190                  NaN                              NaN  \n",
       "6191                  NaN                              NaN  \n",
       "6192                  NaN                              NaN  \n",
       "\n",
       "[6193 rows x 47 columns]"
      ],
      "text/html": "<div>\n<style scoped>\n    .dataframe tbody tr th:only-of-type {\n        vertical-align: middle;\n    }\n\n    .dataframe tbody tr th {\n        vertical-align: top;\n    }\n\n    .dataframe thead th {\n        text-align: right;\n    }\n</style>\n<table border=\"1\" class=\"dataframe\">\n  <thead>\n    <tr style=\"text-align: right;\">\n      <th></th>\n      <th>I_D</th>\n      <th>FLAG_TSUNAMI</th>\n      <th>YEAR</th>\n      <th>MONTH</th>\n      <th>DAY</th>\n      <th>HOUR</th>\n      <th>MINUTE</th>\n      <th>SECOND</th>\n      <th>FOCAL_DEPTH</th>\n      <th>EQ_PRIMARY</th>\n      <th>...</th>\n      <th>TOTAL_MISSING</th>\n      <th>TOTAL_MISSING_DESCRIPTION</th>\n      <th>TOTAL_INJURIES</th>\n      <th>TOTAL_INJURIES_DESCRIPTION</th>\n      <th>TOTAL_DAMAGE_MILLIONS_DOLLARS</th>\n      <th>TOTAL_DAMAGE_DESCRIPTION</th>\n      <th>TOTAL_HOUSES_DESTROYED</th>\n      <th>TOTAL_HOUSES_DESTROYED_DESCRIPTION</th>\n      <th>TOTAL_HOUSES_DAMAGED</th>\n      <th>TOTAL_HOUSES_DAMAGED_DESCRIPTION</th>\n    </tr>\n  </thead>\n  <tbody>\n    <tr>\n      <th>0</th>\n      <td>1</td>\n      <td>No</td>\n      <td>-2150</td>\n      <td>NaN</td>\n      <td>NaN</td>\n      <td>NaN</td>\n      <td>NaN</td>\n      <td></td>\n      <td>NaN</td>\n      <td>7.3</td>\n      <td>...</td>\n      <td>NaN</td>\n      <td>NaN</td>\n      <td>NaN</td>\n      <td>NaN</td>\n      <td>NaN</td>\n      <td>NaN</td>\n      <td>NaN</td>\n      <td>NaN</td>\n      <td>NaN</td>\n      <td>NaN</td>\n    </tr>\n    <tr>\n      <th>1</th>\n      <td>2</td>\n      <td>Yes</td>\n      <td>-2000</td>\n      <td>NaN</td>\n      <td>NaN</td>\n      <td>NaN</td>\n      <td>NaN</td>\n      <td>NaN</td>\n      <td>NaN</td>\n      <td>NaN</td>\n      <td>...</td>\n      <td>NaN</td>\n      <td>NaN</td>\n      <td>NaN</td>\n      <td>NaN</td>\n      <td>NaN</td>\n      <td>NaN</td>\n      <td>NaN</td>\n      <td>NaN</td>\n      <td>NaN</td>\n      <td>NaN</td>\n    </tr>\n    <tr>\n      <th>2</th>\n      <td>3</td>\n      <td>No</td>\n      <td>-2000</td>\n      <td>NaN</td>\n      <td>NaN</td>\n      <td>NaN</td>\n      <td>NaN</td>\n      <td>NaN</td>\n      <td>18.0</td>\n      <td>7.1</td>\n      <td>...</td>\n      <td>NaN</td>\n      <td>NaN</td>\n      <td>NaN</td>\n      <td>NaN</td>\n      <td>NaN</td>\n      <td>1.0</td>\n      <td>NaN</td>\n      <td>1.0</td>\n      <td>NaN</td>\n      <td>NaN</td>\n    </tr>\n    <tr>\n      <th>3</th>\n      <td>5877</td>\n      <td>Yes</td>\n      <td>-1610</td>\n      <td>NaN</td>\n      <td>NaN</td>\n      <td>NaN</td>\n      <td>NaN</td>\n      <td>NaN</td>\n      <td>NaN</td>\n      <td>NaN</td>\n      <td>...</td>\n      <td>NaN</td>\n      <td>NaN</td>\n      <td>NaN</td>\n      <td>NaN</td>\n      <td>NaN</td>\n      <td>3.0</td>\n      <td>NaN</td>\n      <td>NaN</td>\n      <td>NaN</td>\n      <td>NaN</td>\n    </tr>\n    <tr>\n      <th>4</th>\n      <td>8</td>\n      <td>No</td>\n      <td>-1566</td>\n      <td>NaN</td>\n      <td>NaN</td>\n      <td>NaN</td>\n      <td>NaN</td>\n      <td></td>\n      <td>NaN</td>\n      <td>NaN</td>\n      <td>...</td>\n      <td>NaN</td>\n      <td>NaN</td>\n      <td>NaN</td>\n      <td>NaN</td>\n      <td>NaN</td>\n      <td>NaN</td>\n      <td>NaN</td>\n      <td>NaN</td>\n      <td>NaN</td>\n      <td>NaN</td>\n    </tr>\n    <tr>\n      <th>...</th>\n      <td>...</td>\n      <td>...</td>\n      <td>...</td>\n      <td>...</td>\n      <td>...</td>\n      <td>...</td>\n      <td>...</td>\n      <td>...</td>\n      <td>...</td>\n      <td>...</td>\n      <td>...</td>\n      <td>...</td>\n      <td>...</td>\n      <td>...</td>\n      <td>...</td>\n      <td>...</td>\n      <td>...</td>\n      <td>...</td>\n      <td>...</td>\n      <td>...</td>\n      <td>...</td>\n    </tr>\n    <tr>\n      <th>6188</th>\n      <td>10488</td>\n      <td>No</td>\n      <td>2020</td>\n      <td>4.0</td>\n      <td>1.0</td>\n      <td>12.0</td>\n      <td>23.0</td>\n      <td>27</td>\n      <td>10.0</td>\n      <td>5.3</td>\n      <td>...</td>\n      <td>NaN</td>\n      <td>NaN</td>\n      <td>NaN</td>\n      <td>NaN</td>\n      <td>11.28</td>\n      <td>3.0</td>\n      <td>NaN</td>\n      <td>NaN</td>\n      <td>790.0</td>\n      <td>3.0</td>\n    </tr>\n    <tr>\n      <th>6189</th>\n      <td>10490</td>\n      <td>Yes</td>\n      <td>2020</td>\n      <td>5.0</td>\n      <td>2.0</td>\n      <td>12.0</td>\n      <td>51.0</td>\n      <td>6</td>\n      <td>17.0</td>\n      <td>6.6</td>\n      <td>...</td>\n      <td>NaN</td>\n      <td>NaN</td>\n      <td>NaN</td>\n      <td>NaN</td>\n      <td>NaN</td>\n      <td>NaN</td>\n      <td>NaN</td>\n      <td>NaN</td>\n      <td>NaN</td>\n      <td>NaN</td>\n    </tr>\n    <tr>\n      <th>6190</th>\n      <td>10491</td>\n      <td>No</td>\n      <td>2020</td>\n      <td>5.0</td>\n      <td>7.0</td>\n      <td>20.0</td>\n      <td>18.0</td>\n      <td>22</td>\n      <td>10.0</td>\n      <td>4.6</td>\n      <td>...</td>\n      <td>NaN</td>\n      <td>NaN</td>\n      <td>22.0</td>\n      <td>1.0</td>\n      <td>NaN</td>\n      <td>NaN</td>\n      <td>NaN</td>\n      <td>NaN</td>\n      <td>NaN</td>\n      <td>NaN</td>\n    </tr>\n    <tr>\n      <th>6191</th>\n      <td>10494</td>\n      <td>No</td>\n      <td>2020</td>\n      <td>5.0</td>\n      <td>18.0</td>\n      <td>13.0</td>\n      <td>48.0</td>\n      <td>3</td>\n      <td>10.0</td>\n      <td>5.2</td>\n      <td>...</td>\n      <td>NaN</td>\n      <td>NaN</td>\n      <td>24.0</td>\n      <td>1.0</td>\n      <td>NaN</td>\n      <td>2.0</td>\n      <td>NaN</td>\n      <td>1.0</td>\n      <td>NaN</td>\n      <td>NaN</td>\n    </tr>\n    <tr>\n      <th>6192</th>\n      <td>10501</td>\n      <td>Yes</td>\n      <td>2020</td>\n      <td>5.0</td>\n      <td>29.0</td>\n      <td>5.0</td>\n      <td>30.0</td>\n      <td>NaN</td>\n      <td>NaN</td>\n      <td>NaN</td>\n      <td>...</td>\n      <td>NaN</td>\n      <td>NaN</td>\n      <td>NaN</td>\n      <td>NaN</td>\n      <td>NaN</td>\n      <td>NaN</td>\n      <td>NaN</td>\n      <td>NaN</td>\n      <td>NaN</td>\n      <td>NaN</td>\n    </tr>\n  </tbody>\n</table>\n<p>6193 rows × 47 columns</p>\n</div>"
     },
     "metadata": {},
     "execution_count": 2
    }
   ],
   "source": [
    "# read csv\n",
    "df = pd.read_csv('data/Worldwide-Earthquake-database.csv')\n",
    "df"
   ]
  },
  {
   "cell_type": "markdown",
   "id": "033de133",
   "metadata": {},
   "source": [
    "## Limpieza y preparación de datos\n",
    "\n",
    "Convertimos las columnas de latitud y longitud a numéricas, los errores se convertirán en NaN"
   ]
  },
  {
   "cell_type": "code",
   "execution_count": 4,
   "id": "7b26b590",
   "metadata": {},
   "outputs": [],
   "source": [
    "df['LONGITUDE'] = pd.to_numeric(df.LONGITUDE, errors='coerce')\n",
    "df['LATITUDE'] = pd.to_numeric(df.LATITUDE, errors='coerce')"
   ]
  },
  {
   "source": [
    "Nos deshacemos de las filas con datos perdidos para latitud, longitud e intensidad (del terremoto)"
   ],
   "cell_type": "markdown",
   "metadata": {}
  },
  {
   "cell_type": "code",
   "execution_count": 5,
   "id": "cec17c31",
   "metadata": {},
   "outputs": [],
   "source": [
    "df.dropna(subset=['LONGITUDE', 'LATITUDE', 'INTENSITY'], inplace=True)"
   ]
  },
  {
   "source": [
    "También convertimos la columna \"FLAG_TSUNAMI\" a números enteros, la necesitaremos en ese formato"
   ],
   "cell_type": "markdown",
   "metadata": {}
  },
  {
   "cell_type": "code",
   "execution_count": 6,
   "id": "3c573ca0",
   "metadata": {},
   "outputs": [],
   "source": [
    "df['FLAG_TSUNAMI'] = [1 if i=='Yes' else 0 for i in df.FLAG_TSUNAMI.values]"
   ]
  },
  {
   "cell_type": "code",
   "execution_count": 9,
   "id": "f3b75cf8",
   "metadata": {},
   "outputs": [
    {
     "output_type": "execute_result",
     "data": {
      "text/plain": [
       "        I_D  FLAG_TSUNAMI  YEAR  MONTH   DAY  HOUR  MINUTE SECOND  \\\n",
       "1         2             1 -2000    NaN   NaN   NaN     NaN    NaN   \n",
       "2         3             0 -2000    NaN   NaN   NaN     NaN    NaN   \n",
       "4         8             0 -1566    NaN   NaN   NaN     NaN          \n",
       "5        11             0 -1450    NaN   NaN   NaN     NaN    NaN   \n",
       "9        14             0  -759    NaN   NaN   NaN     NaN          \n",
       "...     ...           ...   ...    ...   ...   ...     ...    ...   \n",
       "6184  10483             0  2020    3.0  10.0  10.0    18.0      6   \n",
       "6185  10485             0  2020    3.0  18.0  13.0     9.0     31   \n",
       "6186  10486             0  2020    3.0  22.0   5.0    24.0      3   \n",
       "6187  10487             1  2020    3.0  25.0   2.0    49.0     21   \n",
       "6189  10490             1  2020    5.0   2.0  12.0    51.0      6   \n",
       "\n",
       "      FOCAL_DEPTH  EQ_PRIMARY  ...  TOTAL_MISSING  TOTAL_MISSING_DESCRIPTION  \\\n",
       "1             NaN         NaN  ...            NaN                        NaN   \n",
       "2            18.0         7.1  ...            NaN                        NaN   \n",
       "4             NaN         NaN  ...            NaN                        NaN   \n",
       "5             NaN         NaN  ...            NaN                        NaN   \n",
       "9             NaN         NaN  ...            NaN                        NaN   \n",
       "...           ...         ...  ...            ...                        ...   \n",
       "6184         23.0         5.0  ...            NaN                        NaN   \n",
       "6185         12.0         5.7  ...            NaN                        NaN   \n",
       "6186         10.0         5.4  ...            NaN                        NaN   \n",
       "6187         57.0         7.5  ...            NaN                        NaN   \n",
       "6189         17.0         6.6  ...            NaN                        NaN   \n",
       "\n",
       "      TOTAL_INJURIES  TOTAL_INJURIES_DESCRIPTION  \\\n",
       "1                NaN                         NaN   \n",
       "2                NaN                         NaN   \n",
       "4                NaN                         NaN   \n",
       "5                NaN                         NaN   \n",
       "9                NaN                         NaN   \n",
       "...              ...                         ...   \n",
       "6184             4.0                         1.0   \n",
       "6185             NaN                         NaN   \n",
       "6186            27.0                         1.0   \n",
       "6187             NaN                         NaN   \n",
       "6189             NaN                         NaN   \n",
       "\n",
       "      TOTAL_DAMAGE_MILLIONS_DOLLARS  TOTAL_DAMAGE_DESCRIPTION  \\\n",
       "1                               NaN                       NaN   \n",
       "2                               NaN                       1.0   \n",
       "4                               NaN                       NaN   \n",
       "5                               NaN                       NaN   \n",
       "9                               NaN                       NaN   \n",
       "...                             ...                       ...   \n",
       "6184                            NaN                       2.0   \n",
       "6185                           48.5                       4.0   \n",
       "6186                         6000.0                       4.0   \n",
       "6187                            NaN                       NaN   \n",
       "6189                            NaN                       NaN   \n",
       "\n",
       "      TOTAL_HOUSES_DESTROYED TOTAL_HOUSES_DESTROYED_DESCRIPTION  \\\n",
       "1                        NaN                                NaN   \n",
       "2                        NaN                                1.0   \n",
       "4                        NaN                                NaN   \n",
       "5                        NaN                                NaN   \n",
       "9                        NaN                                NaN   \n",
       "...                      ...                                ...   \n",
       "6184                     NaN                                NaN   \n",
       "6185                     NaN                                NaN   \n",
       "6186                  6305.0                                4.0   \n",
       "6187                     NaN                                NaN   \n",
       "6189                     NaN                                NaN   \n",
       "\n",
       "     TOTAL_HOUSES_DAMAGED TOTAL_HOUSES_DAMAGED_DESCRIPTION  \n",
       "1                     NaN                              NaN  \n",
       "2                     NaN                              NaN  \n",
       "4                     NaN                              NaN  \n",
       "5                     NaN                              NaN  \n",
       "9                     NaN                              NaN  \n",
       "...                   ...                              ...  \n",
       "6184               1137.0                              4.0  \n",
       "6185                  NaN                              3.0  \n",
       "6186              20000.0                              4.0  \n",
       "6187                  NaN                              NaN  \n",
       "6189                  NaN                              NaN  \n",
       "\n",
       "[2810 rows x 47 columns]"
      ],
      "text/html": "<div>\n<style scoped>\n    .dataframe tbody tr th:only-of-type {\n        vertical-align: middle;\n    }\n\n    .dataframe tbody tr th {\n        vertical-align: top;\n    }\n\n    .dataframe thead th {\n        text-align: right;\n    }\n</style>\n<table border=\"1\" class=\"dataframe\">\n  <thead>\n    <tr style=\"text-align: right;\">\n      <th></th>\n      <th>I_D</th>\n      <th>FLAG_TSUNAMI</th>\n      <th>YEAR</th>\n      <th>MONTH</th>\n      <th>DAY</th>\n      <th>HOUR</th>\n      <th>MINUTE</th>\n      <th>SECOND</th>\n      <th>FOCAL_DEPTH</th>\n      <th>EQ_PRIMARY</th>\n      <th>...</th>\n      <th>TOTAL_MISSING</th>\n      <th>TOTAL_MISSING_DESCRIPTION</th>\n      <th>TOTAL_INJURIES</th>\n      <th>TOTAL_INJURIES_DESCRIPTION</th>\n      <th>TOTAL_DAMAGE_MILLIONS_DOLLARS</th>\n      <th>TOTAL_DAMAGE_DESCRIPTION</th>\n      <th>TOTAL_HOUSES_DESTROYED</th>\n      <th>TOTAL_HOUSES_DESTROYED_DESCRIPTION</th>\n      <th>TOTAL_HOUSES_DAMAGED</th>\n      <th>TOTAL_HOUSES_DAMAGED_DESCRIPTION</th>\n    </tr>\n  </thead>\n  <tbody>\n    <tr>\n      <th>1</th>\n      <td>2</td>\n      <td>1</td>\n      <td>-2000</td>\n      <td>NaN</td>\n      <td>NaN</td>\n      <td>NaN</td>\n      <td>NaN</td>\n      <td>NaN</td>\n      <td>NaN</td>\n      <td>NaN</td>\n      <td>...</td>\n      <td>NaN</td>\n      <td>NaN</td>\n      <td>NaN</td>\n      <td>NaN</td>\n      <td>NaN</td>\n      <td>NaN</td>\n      <td>NaN</td>\n      <td>NaN</td>\n      <td>NaN</td>\n      <td>NaN</td>\n    </tr>\n    <tr>\n      <th>2</th>\n      <td>3</td>\n      <td>0</td>\n      <td>-2000</td>\n      <td>NaN</td>\n      <td>NaN</td>\n      <td>NaN</td>\n      <td>NaN</td>\n      <td>NaN</td>\n      <td>18.0</td>\n      <td>7.1</td>\n      <td>...</td>\n      <td>NaN</td>\n      <td>NaN</td>\n      <td>NaN</td>\n      <td>NaN</td>\n      <td>NaN</td>\n      <td>1.0</td>\n      <td>NaN</td>\n      <td>1.0</td>\n      <td>NaN</td>\n      <td>NaN</td>\n    </tr>\n    <tr>\n      <th>4</th>\n      <td>8</td>\n      <td>0</td>\n      <td>-1566</td>\n      <td>NaN</td>\n      <td>NaN</td>\n      <td>NaN</td>\n      <td>NaN</td>\n      <td></td>\n      <td>NaN</td>\n      <td>NaN</td>\n      <td>...</td>\n      <td>NaN</td>\n      <td>NaN</td>\n      <td>NaN</td>\n      <td>NaN</td>\n      <td>NaN</td>\n      <td>NaN</td>\n      <td>NaN</td>\n      <td>NaN</td>\n      <td>NaN</td>\n      <td>NaN</td>\n    </tr>\n    <tr>\n      <th>5</th>\n      <td>11</td>\n      <td>0</td>\n      <td>-1450</td>\n      <td>NaN</td>\n      <td>NaN</td>\n      <td>NaN</td>\n      <td>NaN</td>\n      <td>NaN</td>\n      <td>NaN</td>\n      <td>NaN</td>\n      <td>...</td>\n      <td>NaN</td>\n      <td>NaN</td>\n      <td>NaN</td>\n      <td>NaN</td>\n      <td>NaN</td>\n      <td>NaN</td>\n      <td>NaN</td>\n      <td>NaN</td>\n      <td>NaN</td>\n      <td>NaN</td>\n    </tr>\n    <tr>\n      <th>9</th>\n      <td>14</td>\n      <td>0</td>\n      <td>-759</td>\n      <td>NaN</td>\n      <td>NaN</td>\n      <td>NaN</td>\n      <td>NaN</td>\n      <td></td>\n      <td>NaN</td>\n      <td>NaN</td>\n      <td>...</td>\n      <td>NaN</td>\n      <td>NaN</td>\n      <td>NaN</td>\n      <td>NaN</td>\n      <td>NaN</td>\n      <td>NaN</td>\n      <td>NaN</td>\n      <td>NaN</td>\n      <td>NaN</td>\n      <td>NaN</td>\n    </tr>\n    <tr>\n      <th>...</th>\n      <td>...</td>\n      <td>...</td>\n      <td>...</td>\n      <td>...</td>\n      <td>...</td>\n      <td>...</td>\n      <td>...</td>\n      <td>...</td>\n      <td>...</td>\n      <td>...</td>\n      <td>...</td>\n      <td>...</td>\n      <td>...</td>\n      <td>...</td>\n      <td>...</td>\n      <td>...</td>\n      <td>...</td>\n      <td>...</td>\n      <td>...</td>\n      <td>...</td>\n      <td>...</td>\n    </tr>\n    <tr>\n      <th>6184</th>\n      <td>10483</td>\n      <td>0</td>\n      <td>2020</td>\n      <td>3.0</td>\n      <td>10.0</td>\n      <td>10.0</td>\n      <td>18.0</td>\n      <td>6</td>\n      <td>23.0</td>\n      <td>5.0</td>\n      <td>...</td>\n      <td>NaN</td>\n      <td>NaN</td>\n      <td>4.0</td>\n      <td>1.0</td>\n      <td>NaN</td>\n      <td>2.0</td>\n      <td>NaN</td>\n      <td>NaN</td>\n      <td>1137.0</td>\n      <td>4.0</td>\n    </tr>\n    <tr>\n      <th>6185</th>\n      <td>10485</td>\n      <td>0</td>\n      <td>2020</td>\n      <td>3.0</td>\n      <td>18.0</td>\n      <td>13.0</td>\n      <td>9.0</td>\n      <td>31</td>\n      <td>12.0</td>\n      <td>5.7</td>\n      <td>...</td>\n      <td>NaN</td>\n      <td>NaN</td>\n      <td>NaN</td>\n      <td>NaN</td>\n      <td>48.5</td>\n      <td>4.0</td>\n      <td>NaN</td>\n      <td>NaN</td>\n      <td>NaN</td>\n      <td>3.0</td>\n    </tr>\n    <tr>\n      <th>6186</th>\n      <td>10486</td>\n      <td>0</td>\n      <td>2020</td>\n      <td>3.0</td>\n      <td>22.0</td>\n      <td>5.0</td>\n      <td>24.0</td>\n      <td>3</td>\n      <td>10.0</td>\n      <td>5.4</td>\n      <td>...</td>\n      <td>NaN</td>\n      <td>NaN</td>\n      <td>27.0</td>\n      <td>1.0</td>\n      <td>6000.0</td>\n      <td>4.0</td>\n      <td>6305.0</td>\n      <td>4.0</td>\n      <td>20000.0</td>\n      <td>4.0</td>\n    </tr>\n    <tr>\n      <th>6187</th>\n      <td>10487</td>\n      <td>1</td>\n      <td>2020</td>\n      <td>3.0</td>\n      <td>25.0</td>\n      <td>2.0</td>\n      <td>49.0</td>\n      <td>21</td>\n      <td>57.0</td>\n      <td>7.5</td>\n      <td>...</td>\n      <td>NaN</td>\n      <td>NaN</td>\n      <td>NaN</td>\n      <td>NaN</td>\n      <td>NaN</td>\n      <td>NaN</td>\n      <td>NaN</td>\n      <td>NaN</td>\n      <td>NaN</td>\n      <td>NaN</td>\n    </tr>\n    <tr>\n      <th>6189</th>\n      <td>10490</td>\n      <td>1</td>\n      <td>2020</td>\n      <td>5.0</td>\n      <td>2.0</td>\n      <td>12.0</td>\n      <td>51.0</td>\n      <td>6</td>\n      <td>17.0</td>\n      <td>6.6</td>\n      <td>...</td>\n      <td>NaN</td>\n      <td>NaN</td>\n      <td>NaN</td>\n      <td>NaN</td>\n      <td>NaN</td>\n      <td>NaN</td>\n      <td>NaN</td>\n      <td>NaN</td>\n      <td>NaN</td>\n      <td>NaN</td>\n    </tr>\n  </tbody>\n</table>\n<p>2810 rows × 47 columns</p>\n</div>"
     },
     "metadata": {},
     "execution_count": 9
    }
   ],
   "source": [
    "df"
   ]
  },
  {
   "source": [
    "Las columnas de latitud y longitud no se veían en la muestra anterior. Las mostramos en esta ocasión para corroborar su formato."
   ],
   "cell_type": "markdown",
   "metadata": {}
  },
  {
   "cell_type": "code",
   "execution_count": 10,
   "metadata": {},
   "outputs": [
    {
     "output_type": "execute_result",
     "data": {
      "text/plain": [
       "      LATITUDE  LONGITUDE\n",
       "1       35.683     35.800\n",
       "2       38.000     58.200\n",
       "4       31.500     35.300\n",
       "5       35.500     25.500\n",
       "9       33.000     35.500\n",
       "...        ...        ...\n",
       "6184    -6.808    106.676\n",
       "6185    40.751   -112.078\n",
       "6186    45.897     15.966\n",
       "6187    48.986    157.693\n",
       "6189    34.205     25.712\n",
       "\n",
       "[2810 rows x 2 columns]"
      ],
      "text/html": "<div>\n<style scoped>\n    .dataframe tbody tr th:only-of-type {\n        vertical-align: middle;\n    }\n\n    .dataframe tbody tr th {\n        vertical-align: top;\n    }\n\n    .dataframe thead th {\n        text-align: right;\n    }\n</style>\n<table border=\"1\" class=\"dataframe\">\n  <thead>\n    <tr style=\"text-align: right;\">\n      <th></th>\n      <th>LATITUDE</th>\n      <th>LONGITUDE</th>\n    </tr>\n  </thead>\n  <tbody>\n    <tr>\n      <th>1</th>\n      <td>35.683</td>\n      <td>35.800</td>\n    </tr>\n    <tr>\n      <th>2</th>\n      <td>38.000</td>\n      <td>58.200</td>\n    </tr>\n    <tr>\n      <th>4</th>\n      <td>31.500</td>\n      <td>35.300</td>\n    </tr>\n    <tr>\n      <th>5</th>\n      <td>35.500</td>\n      <td>25.500</td>\n    </tr>\n    <tr>\n      <th>9</th>\n      <td>33.000</td>\n      <td>35.500</td>\n    </tr>\n    <tr>\n      <th>...</th>\n      <td>...</td>\n      <td>...</td>\n    </tr>\n    <tr>\n      <th>6184</th>\n      <td>-6.808</td>\n      <td>106.676</td>\n    </tr>\n    <tr>\n      <th>6185</th>\n      <td>40.751</td>\n      <td>-112.078</td>\n    </tr>\n    <tr>\n      <th>6186</th>\n      <td>45.897</td>\n      <td>15.966</td>\n    </tr>\n    <tr>\n      <th>6187</th>\n      <td>48.986</td>\n      <td>157.693</td>\n    </tr>\n    <tr>\n      <th>6189</th>\n      <td>34.205</td>\n      <td>25.712</td>\n    </tr>\n  </tbody>\n</table>\n<p>2810 rows × 2 columns</p>\n</div>"
     },
     "metadata": {},
     "execution_count": 10
    }
   ],
   "source": [
    "df.loc[:,('LATITUDE','LONGITUDE')]"
   ]
  },
  {
   "cell_type": "markdown",
   "id": "27741f9d",
   "metadata": {},
   "source": [
    "## Generamos un mapa y le agregamos datos"
   ]
  },
  {
   "cell_type": "markdown",
   "id": "255f7bc1",
   "metadata": {},
   "source": [
    "Podemos desplegar un menú del lado izquierdo, contiene lo siguiente:\n",
    "- Layers — Define cómo es que las variables son agregadas al mapa (recuerda que una variable es una columna en tus datos).\n",
    "- Filters — Desde aquí podemos filtrar para obtener muestras más pequeñas de nuestro conjunto de datos.\n",
    "- Interactions — Define las interacciones, como los tooltips, las cajas de leyendas, entre otras cosillas.\n",
    "- Basemap — Define el estilo de los elementos en el mapa cDefines the style of the world map and other elements like labels, roads, styles"
   ]
  },
  {
   "source": [
    "Nota de Omar del pasado: Omar del futuro haz lo siguiente.\n",
    "- Agrega una nueva capa, utiliza hexágonos y elige el radio apropiado"
   ],
   "cell_type": "markdown",
   "metadata": {}
  },
  {
   "cell_type": "code",
   "execution_count": 11,
   "id": "e568624e",
   "metadata": {},
   "outputs": [
    {
     "output_type": "stream",
     "name": "stdout",
     "text": [
      "User Guide: https://docs.kepler.gl/docs/keplergl-jupyter\n"
     ]
    },
    {
     "output_type": "display_data",
     "data": {
      "text/plain": "KeplerGl()",
      "application/vnd.jupyter.widget-view+json": {
       "version_major": 2,
       "version_minor": 0,
       "model_id": "4546b1f8f9504a3c8be33cfbc9984e22"
      }
     },
     "metadata": {}
    }
   ],
   "source": [
    "kepler_map = keplergl.KeplerGl(height=400)\n",
    "kepler_map"
   ]
  },
  {
   "cell_type": "code",
   "execution_count": 12,
   "id": "862b3a4d",
   "metadata": {},
   "outputs": [],
   "source": [
    "kepler_map.add_data(data=df, name=\"earthquakes\")"
   ]
  },
  {
   "cell_type": "code",
   "execution_count": null,
   "id": "fa6d28f9",
   "metadata": {},
   "outputs": [],
   "source": []
  }
 ],
 "metadata": {
  "kernelspec": {
   "name": "python3",
   "display_name": "Python 3.8.0 64-bit ('mapas-11U74Uba': pipenv)"
  },
  "language_info": {
   "codemirror_mode": {
    "name": "ipython",
    "version": 3
   },
   "file_extension": ".py",
   "mimetype": "text/x-python",
   "name": "python",
   "nbconvert_exporter": "python",
   "pygments_lexer": "ipython3",
   "version": "3.8.0"
  },
  "interpreter": {
   "hash": "8066add048083a2281fa47db965d85aaa5e73a237215f944a6fdcca0643f8db2"
  }
 },
 "nbformat": 4,
 "nbformat_minor": 5
}